{
 "cells": [
  {
   "cell_type": "markdown",
   "id": "546a2e8b-afcb-40f0-9552-42f2c84d7836",
   "metadata": {},
   "source": [
    "# Статистический анализ данных \n"
   ]
  },
  {
   "cell_type": "markdown",
   "id": "b4e12b85-a463-4eb3-999c-adb81fc3d133",
   "metadata": {},
   "source": [
    "# Цель исследования"
   ]
  },
  {
   "cell_type": "markdown",
   "id": "ea06962a-1d62-478e-983f-7fad9d02768a",
   "metadata": {},
   "source": [
    "**Анализ данных сервиса аренды самокатов GoFast и проверка гипотез**  \n",
    "\n",
    "Чтобы совершать поездки по городу, пользователи сервиса GoFast пользуются мобильным приложением. Сервисом можно пользоваться:\n",
    "1. без подписки\n",
    " - абонентская плата отсутствует;\n",
    " - стоимость одной минуты поездки — 8 рублей;\n",
    " - стоимость старта (начала поездки) — 50 рублей;\n",
    "2. с подпиской Ultra\n",
    " - абонентская плата — 199 рублей в месяц;\n",
    " - стоимость одной минуты поездки — 6 рублей;\n",
    " - стоимость старта — бесплатно.\n",
    "\n",
    "**Входные данные:**\n",
    "\n",
    "Пользователи —  `users_go.csv`\n",
    "\n",
    "| Столбец | Обозначение |\n",
    "| ------- | ------- |\n",
    "| `user_id` | уникальный идентификатор пользователя |\n",
    "| `name` | имя пользователя |\n",
    "| `age` | возраст |\n",
    "| `city` | город |\n",
    "| `subscription_type` | тип подписки (free, ultra) |\n",
    "\n",
    "Поездки — `rides_go.csv`\n",
    "\n",
    "| Столбец | Обозначение |\n",
    "| ------- | ------- |\n",
    "| `user_id` | уникальный идентификатор пользователя |\n",
    "| `distance` | расстояние, которое пользователь проехал в текущей сессии (в метрах) |\n",
    "| `duration` | продолжительность сессии (в минутах) — время с того момента, как пользователь нажал кнопку «Начать поездку» до момента, как он нажал кнопку «Завершить поездку» |\n",
    "| `date` | дата совершения поездки |\n",
    "\n",
    "Подписки — `subscriptions_go.csv`\n",
    "\n",
    "| Столбец | Обозначение |\n",
    "| ------- | ------- |\n",
    "| `subscription_type` |\tтип подписки |\n",
    "| `minute_price` | стоимость одной минуты поездки по данной подписке |\n",
    "| `start_ride_price` | стоимость начала поездки |\n",
    "| `subscription_fee` | стоимость ежемесячного платежа |\n",
    "\n",
    "\n",
    "Пути к файлам: \n",
    "\n",
    "- `/datasets/users_go.csv`\n",
    "- `/datasets/rides_go.csv`\n",
    "- `/datasets/subscriptions_go.csv`\n",
    "\n",
    "### Ход исследования \n",
    "\n",
    "1. Обзор данных:\n",
    "- Импортирование необходимых библиотек.\n",
    "- Чтение файлов с данными.\n",
    "- Общий обзор информации.\n",
    "\n",
    "2. Предобработка данных:\n",
    "\n",
    "- Приведение типов данных к корректным\n",
    "- Проверка и обработка дубликатов\n",
    "\n",
    "3. Исследовательский анализ данных (EDA):\n",
    "\n",
    "- Анализ частоты встречающихся городов\n",
    "- Анализ соотношение пользователей с подпиской и без\n",
    "- Анализ распределения пользователей по возрасту\n",
    "- Анализ расстояния, которое пользователь преодолел за одну поездку\n",
    "\n",
    "4. Объединение данных\n",
    "- Объеденение данных в один датафрейм\n",
    "- Создание дополнительных датафреймов\n",
    "- Анализ распределения расстояний поездок по подпискам\n",
    "- Анализ распределения времени поездок по подпискам\n",
    "\n",
    "5. Подсчет выручки\n",
    "\n",
    "- Создание аггрегированного датафрейма\n",
    "- Добавления столбца с помесячной выручкой\n",
    "\n",
    "6. Проверка гипотез:\n",
    "\n",
    "- Тратят ли пользователи с подпиской больше времени на поездки?\n",
    "- Среднее расстояние, которое проезжают пользователи с подпиской за одну поездку, не превышает 3130 метров?\n",
    "- Будет ли помесячная выручка от пользователей с подпиской по месяцам выше, чем выручка от пользователей без подписки.\n",
    "- Количество обращений в техподдержку значимо снизилось\n",
    "\n",
    "7. Распределения\n",
    "\n",
    "- Рассылка промокодов\n",
    "- Открытие push-уведомлений\n",
    "\n",
    "8. Формирование вывода"
   ]
  },
  {
   "cell_type": "markdown",
   "id": "82b2176b-c7fb-440a-82ab-52073bec48dc",
   "metadata": {},
   "source": [
    "# Обзор данных"
   ]
  },
  {
   "cell_type": "markdown",
   "id": "501700e3-cd7a-46e9-81b4-05e3dd3efcf6",
   "metadata": {},
   "source": [
    "## Импортирование библиотек"
   ]
  },
  {
   "cell_type": "code",
   "execution_count": 1,
   "id": "72576667",
   "metadata": {},
   "outputs": [],
   "source": [
    "import matplotlib.pyplot as plt\n",
    "import numpy as np\n",
    "import pandas as pd\n",
    "import re\n",
    "from scipy import stats as st \n",
    "from scipy.stats import binom\n",
    "import seaborn as sns\n",
    "\n",
    "pd.set_option('display.max_columns', None)\n",
    "sns.set_theme(style=\"darkgrid\")"
   ]
  },
  {
   "cell_type": "markdown",
   "id": "c42cbe00",
   "metadata": {},
   "source": [
    "## Считывание данных из CSV"
   ]
  },
  {
   "cell_type": "code",
   "execution_count": 2,
   "id": "eff9f206",
   "metadata": {},
   "outputs": [],
   "source": [
    "try:\n",
    "    data_users = pd.read_csv('/datasets/users_go.csv')\n",
    "    data_rides = pd.read_csv('/datasets/rides_go.csv')\n",
    "    data_subscriptions = pd.read_csv('/datasets/subscriptions_go.csv')\n",
    "except:\n",
    "    data_users = pd.read_csv('https://code.s3.yandex.net/datasets/users_go.csv')\n",
    "    data_rides = pd.read_csv('https://code.s3.yandex.net/datasets/rides_go.csv')\n",
    "    data_subscriptions = pd.read_csv('https://code.s3.yandex.net/datasets/subscriptions_go.csv')"
   ]
  },
  {
   "cell_type": "markdown",
   "id": "32c1b5e2-dc61-46f5-9144-da65cada6759",
   "metadata": {},
   "source": [
    "## Ознакомимся с данными каждого датафрейма"
   ]
  },
  {
   "cell_type": "markdown",
   "id": "afdd5691-1eae-4b17-9252-66c15b76f01d",
   "metadata": {},
   "source": [
    "### Данные users_go.csv "
   ]
  },
  {
   "cell_type": "code",
   "execution_count": 3,
   "id": "7613c183-ecbc-4e84-abca-b21f27389da4",
   "metadata": {},
   "outputs": [
    {
     "data": {
      "text/html": [
       "<div>\n",
       "<style scoped>\n",
       "    .dataframe tbody tr th:only-of-type {\n",
       "        vertical-align: middle;\n",
       "    }\n",
       "\n",
       "    .dataframe tbody tr th {\n",
       "        vertical-align: top;\n",
       "    }\n",
       "\n",
       "    .dataframe thead th {\n",
       "        text-align: right;\n",
       "    }\n",
       "</style>\n",
       "<table border=\"1\" class=\"dataframe\">\n",
       "  <thead>\n",
       "    <tr style=\"text-align: right;\">\n",
       "      <th></th>\n",
       "      <th>user_id</th>\n",
       "      <th>name</th>\n",
       "      <th>age</th>\n",
       "      <th>city</th>\n",
       "      <th>subscription_type</th>\n",
       "    </tr>\n",
       "  </thead>\n",
       "  <tbody>\n",
       "    <tr>\n",
       "      <th>0</th>\n",
       "      <td>1</td>\n",
       "      <td>Кира</td>\n",
       "      <td>22</td>\n",
       "      <td>Тюмень</td>\n",
       "      <td>ultra</td>\n",
       "    </tr>\n",
       "    <tr>\n",
       "      <th>1</th>\n",
       "      <td>2</td>\n",
       "      <td>Станислав</td>\n",
       "      <td>31</td>\n",
       "      <td>Омск</td>\n",
       "      <td>ultra</td>\n",
       "    </tr>\n",
       "    <tr>\n",
       "      <th>2</th>\n",
       "      <td>3</td>\n",
       "      <td>Алексей</td>\n",
       "      <td>20</td>\n",
       "      <td>Москва</td>\n",
       "      <td>ultra</td>\n",
       "    </tr>\n",
       "    <tr>\n",
       "      <th>3</th>\n",
       "      <td>4</td>\n",
       "      <td>Константин</td>\n",
       "      <td>26</td>\n",
       "      <td>Ростов-на-Дону</td>\n",
       "      <td>ultra</td>\n",
       "    </tr>\n",
       "    <tr>\n",
       "      <th>4</th>\n",
       "      <td>5</td>\n",
       "      <td>Адель</td>\n",
       "      <td>28</td>\n",
       "      <td>Омск</td>\n",
       "      <td>ultra</td>\n",
       "    </tr>\n",
       "  </tbody>\n",
       "</table>\n",
       "</div>"
      ],
      "text/plain": [
       "   user_id        name  age            city subscription_type\n",
       "0        1        Кира   22          Тюмень             ultra\n",
       "1        2   Станислав   31            Омск             ultra\n",
       "2        3     Алексей   20          Москва             ultra\n",
       "3        4  Константин   26  Ростов-на-Дону             ultra\n",
       "4        5       Адель   28            Омск             ultra"
      ]
     },
     "execution_count": 3,
     "metadata": {},
     "output_type": "execute_result"
    }
   ],
   "source": [
    "# Выведем первые 5 строк\n",
    "data_users.head()"
   ]
  },
  {
   "cell_type": "markdown",
   "id": "565a8c59-e9b2-4f1d-b9c4-971fb9bda10b",
   "metadata": {},
   "source": [
    "### Общая информация users_go.csv"
   ]
  },
  {
   "cell_type": "code",
   "execution_count": 4,
   "id": "cf1d6cdd-beda-43aa-aaff-c12598e987d5",
   "metadata": {},
   "outputs": [
    {
     "name": "stdout",
     "output_type": "stream",
     "text": [
      "<class 'pandas.core.frame.DataFrame'>\n",
      "RangeIndex: 1565 entries, 0 to 1564\n",
      "Data columns (total 5 columns):\n",
      " #   Column             Non-Null Count  Dtype \n",
      "---  ------             --------------  ----- \n",
      " 0   user_id            1565 non-null   int64 \n",
      " 1   name               1565 non-null   object\n",
      " 2   age                1565 non-null   int64 \n",
      " 3   city               1565 non-null   object\n",
      " 4   subscription_type  1565 non-null   object\n",
      "dtypes: int64(2), object(3)\n",
      "memory usage: 61.3+ KB\n"
     ]
    }
   ],
   "source": [
    "data_users.info()"
   ]
  },
  {
   "cell_type": "markdown",
   "id": "fc7b8c86-6b0a-4233-be98-94da5520994f",
   "metadata": {},
   "source": [
    "Пропущенных значений нет, типы данных указаны корректно"
   ]
  },
  {
   "cell_type": "markdown",
   "id": "9327a3bf-5ada-47fe-a539-4f132567f753",
   "metadata": {},
   "source": [
    "### Данные rides_go.csv"
   ]
  },
  {
   "cell_type": "code",
   "execution_count": 5,
   "id": "0785b814-a75b-49e2-b8d8-78632d991f4f",
   "metadata": {},
   "outputs": [
    {
     "data": {
      "text/html": [
       "<div>\n",
       "<style scoped>\n",
       "    .dataframe tbody tr th:only-of-type {\n",
       "        vertical-align: middle;\n",
       "    }\n",
       "\n",
       "    .dataframe tbody tr th {\n",
       "        vertical-align: top;\n",
       "    }\n",
       "\n",
       "    .dataframe thead th {\n",
       "        text-align: right;\n",
       "    }\n",
       "</style>\n",
       "<table border=\"1\" class=\"dataframe\">\n",
       "  <thead>\n",
       "    <tr style=\"text-align: right;\">\n",
       "      <th></th>\n",
       "      <th>user_id</th>\n",
       "      <th>distance</th>\n",
       "      <th>duration</th>\n",
       "      <th>date</th>\n",
       "    </tr>\n",
       "  </thead>\n",
       "  <tbody>\n",
       "    <tr>\n",
       "      <th>0</th>\n",
       "      <td>1</td>\n",
       "      <td>4409.919140</td>\n",
       "      <td>25.599769</td>\n",
       "      <td>2021-01-01</td>\n",
       "    </tr>\n",
       "    <tr>\n",
       "      <th>1</th>\n",
       "      <td>1</td>\n",
       "      <td>2617.592153</td>\n",
       "      <td>15.816871</td>\n",
       "      <td>2021-01-18</td>\n",
       "    </tr>\n",
       "    <tr>\n",
       "      <th>2</th>\n",
       "      <td>1</td>\n",
       "      <td>754.159807</td>\n",
       "      <td>6.232113</td>\n",
       "      <td>2021-04-20</td>\n",
       "    </tr>\n",
       "    <tr>\n",
       "      <th>3</th>\n",
       "      <td>1</td>\n",
       "      <td>2694.783254</td>\n",
       "      <td>18.511000</td>\n",
       "      <td>2021-08-11</td>\n",
       "    </tr>\n",
       "    <tr>\n",
       "      <th>4</th>\n",
       "      <td>1</td>\n",
       "      <td>4028.687306</td>\n",
       "      <td>26.265803</td>\n",
       "      <td>2021-08-28</td>\n",
       "    </tr>\n",
       "  </tbody>\n",
       "</table>\n",
       "</div>"
      ],
      "text/plain": [
       "   user_id     distance   duration        date\n",
       "0        1  4409.919140  25.599769  2021-01-01\n",
       "1        1  2617.592153  15.816871  2021-01-18\n",
       "2        1   754.159807   6.232113  2021-04-20\n",
       "3        1  2694.783254  18.511000  2021-08-11\n",
       "4        1  4028.687306  26.265803  2021-08-28"
      ]
     },
     "execution_count": 5,
     "metadata": {},
     "output_type": "execute_result"
    }
   ],
   "source": [
    "# Выведем первые 5 строк\n",
    "data_rides.head()"
   ]
  },
  {
   "cell_type": "markdown",
   "id": "d8ba5bd0-a506-4db1-95db-86b1810ac329",
   "metadata": {},
   "source": [
    "### Общая информация rides_go.csv"
   ]
  },
  {
   "cell_type": "code",
   "execution_count": 6,
   "id": "c2bcefa6-2404-4a23-9921-b6672c9a452b",
   "metadata": {},
   "outputs": [
    {
     "name": "stdout",
     "output_type": "stream",
     "text": [
      "<class 'pandas.core.frame.DataFrame'>\n",
      "RangeIndex: 18068 entries, 0 to 18067\n",
      "Data columns (total 4 columns):\n",
      " #   Column    Non-Null Count  Dtype  \n",
      "---  ------    --------------  -----  \n",
      " 0   user_id   18068 non-null  int64  \n",
      " 1   distance  18068 non-null  float64\n",
      " 2   duration  18068 non-null  float64\n",
      " 3   date      18068 non-null  object \n",
      "dtypes: float64(2), int64(1), object(1)\n",
      "memory usage: 564.8+ KB\n"
     ]
    }
   ],
   "source": [
    "data_rides.info()"
   ]
  },
  {
   "cell_type": "markdown",
   "id": "360172ce-6a20-4955-b492-94ce4242d20d",
   "metadata": {},
   "source": [
    "Пропущенных значений нет. В столбце date, на этапе предобработки данных, изменим тип на datetime"
   ]
  },
  {
   "cell_type": "markdown",
   "id": "f02ccb85-43d4-4f9c-a8ec-bf6b7d50d222",
   "metadata": {},
   "source": [
    "### Данные subscriptions_go.csv"
   ]
  },
  {
   "cell_type": "code",
   "execution_count": 7,
   "id": "0a343b31-bdac-4419-be30-be71471563f9",
   "metadata": {},
   "outputs": [
    {
     "data": {
      "text/html": [
       "<div>\n",
       "<style scoped>\n",
       "    .dataframe tbody tr th:only-of-type {\n",
       "        vertical-align: middle;\n",
       "    }\n",
       "\n",
       "    .dataframe tbody tr th {\n",
       "        vertical-align: top;\n",
       "    }\n",
       "\n",
       "    .dataframe thead th {\n",
       "        text-align: right;\n",
       "    }\n",
       "</style>\n",
       "<table border=\"1\" class=\"dataframe\">\n",
       "  <thead>\n",
       "    <tr style=\"text-align: right;\">\n",
       "      <th></th>\n",
       "      <th>subscription_type</th>\n",
       "      <th>minute_price</th>\n",
       "      <th>start_ride_price</th>\n",
       "      <th>subscription_fee</th>\n",
       "    </tr>\n",
       "  </thead>\n",
       "  <tbody>\n",
       "    <tr>\n",
       "      <th>0</th>\n",
       "      <td>free</td>\n",
       "      <td>8</td>\n",
       "      <td>50</td>\n",
       "      <td>0</td>\n",
       "    </tr>\n",
       "    <tr>\n",
       "      <th>1</th>\n",
       "      <td>ultra</td>\n",
       "      <td>6</td>\n",
       "      <td>0</td>\n",
       "      <td>199</td>\n",
       "    </tr>\n",
       "  </tbody>\n",
       "</table>\n",
       "</div>"
      ],
      "text/plain": [
       "  subscription_type  minute_price  start_ride_price  subscription_fee\n",
       "0              free             8                50                 0\n",
       "1             ultra             6                 0               199"
      ]
     },
     "execution_count": 7,
     "metadata": {},
     "output_type": "execute_result"
    }
   ],
   "source": [
    "# Выведем первые 5 строк\n",
    "data_subscriptions.head()"
   ]
  },
  {
   "cell_type": "markdown",
   "id": "2ff1b3a3-652f-4273-b635-ee4e5a726cb2",
   "metadata": {},
   "source": [
    "### Общая информация subscriptions_go.csv"
   ]
  },
  {
   "cell_type": "code",
   "execution_count": 8,
   "id": "a63e53ed-f6b5-4719-be35-aab4f8b9c5de",
   "metadata": {},
   "outputs": [
    {
     "name": "stdout",
     "output_type": "stream",
     "text": [
      "<class 'pandas.core.frame.DataFrame'>\n",
      "RangeIndex: 2 entries, 0 to 1\n",
      "Data columns (total 4 columns):\n",
      " #   Column             Non-Null Count  Dtype \n",
      "---  ------             --------------  ----- \n",
      " 0   subscription_type  2 non-null      object\n",
      " 1   minute_price       2 non-null      int64 \n",
      " 2   start_ride_price   2 non-null      int64 \n",
      " 3   subscription_fee   2 non-null      int64 \n",
      "dtypes: int64(3), object(1)\n",
      "memory usage: 192.0+ bytes\n"
     ]
    }
   ],
   "source": [
    "data_subscriptions.info()"
   ]
  },
  {
   "cell_type": "markdown",
   "id": "438c26a0-a653-4694-9348-893f008e398f",
   "metadata": {},
   "source": [
    "Пропущенных значений нет, типы данных указаны корректно"
   ]
  },
  {
   "cell_type": "markdown",
   "id": "81fd3273-632f-454d-a351-039152e22dab",
   "metadata": {},
   "source": [
    "### Промежуточный вывод\n",
    "\n",
    "Нами была просмотренна общая информация датасетов:\n",
    "- `users_go` - пользователи\n",
    "- `rides_go` - поездки\n",
    "- `subscriptions_go` - подписки\n",
    "\n",
    "Пропущенных значений не обнаружено, в rides_go в столбце date необходимо изменить тип на datetime. Остальные данные имеют корректный тип"
   ]
  },
  {
   "cell_type": "markdown",
   "id": "e95ebca7",
   "metadata": {},
   "source": [
    "# Предобработка данных"
   ]
  },
  {
   "cell_type": "markdown",
   "id": "d5caa917-15b2-45d1-9287-1170f186897a",
   "metadata": {},
   "source": [
    "## Приведем тип данных стобца date в rides_go к типу datetime"
   ]
  },
  {
   "cell_type": "code",
   "execution_count": 9,
   "id": "09286f26-4231-4717-b35c-3094544965c0",
   "metadata": {},
   "outputs": [],
   "source": [
    "data_rides['date'] = pd.to_datetime(data_rides['date'], format='%Y-%m-%d').dt.date"
   ]
  },
  {
   "cell_type": "markdown",
   "id": "747a585e-45c2-4ba1-b1a0-794ae533a6e5",
   "metadata": {},
   "source": [
    "## Создадим столбец с номером месяца"
   ]
  },
  {
   "cell_type": "code",
   "execution_count": 10,
   "id": "be14bf3f-e2a0-4034-8363-01c09e871773",
   "metadata": {},
   "outputs": [
    {
     "data": {
      "text/plain": [
       "0    1\n",
       "1    1\n",
       "2    4\n",
       "3    8\n",
       "4    8\n",
       "Name: month, dtype: int64"
      ]
     },
     "execution_count": 10,
     "metadata": {},
     "output_type": "execute_result"
    }
   ],
   "source": [
    "data_rides['month'] = pd.to_datetime(data_rides['date']).dt.month\n",
    "data_rides['month'].head()"
   ]
  },
  {
   "cell_type": "markdown",
   "id": "3924df50-4a45-4657-9370-c4c5bb854a24",
   "metadata": {},
   "source": [
    "## Проверим наличие дубликатов в датафреймах"
   ]
  },
  {
   "cell_type": "markdown",
   "id": "3c89157f-ce49-49ae-9ef3-34655f73fafe",
   "metadata": {},
   "source": [
    "### Проверим наличие дубликатов в столбце user_id датафрейма data_users"
   ]
  },
  {
   "cell_type": "markdown",
   "id": "54f27376-2d68-41f1-a392-8a86c138ee26",
   "metadata": {},
   "source": [
    "В data_users нас интересуют дубликаты только в столбце user_id, т.к. они должны быть уникальные. "
   ]
  },
  {
   "cell_type": "code",
   "execution_count": 11,
   "id": "11e70bec-fd9e-4daf-b5f2-8c5747e7f26d",
   "metadata": {},
   "outputs": [
    {
     "data": {
      "text/html": [
       "<div>\n",
       "<style scoped>\n",
       "    .dataframe tbody tr th:only-of-type {\n",
       "        vertical-align: middle;\n",
       "    }\n",
       "\n",
       "    .dataframe tbody tr th {\n",
       "        vertical-align: top;\n",
       "    }\n",
       "\n",
       "    .dataframe thead th {\n",
       "        text-align: right;\n",
       "    }\n",
       "</style>\n",
       "<table border=\"1\" class=\"dataframe\">\n",
       "  <thead>\n",
       "    <tr style=\"text-align: right;\">\n",
       "      <th></th>\n",
       "      <th>user_id</th>\n",
       "      <th>name</th>\n",
       "      <th>age</th>\n",
       "      <th>city</th>\n",
       "      <th>subscription_type</th>\n",
       "    </tr>\n",
       "  </thead>\n",
       "  <tbody>\n",
       "    <tr>\n",
       "      <th>1534</th>\n",
       "      <td>293</td>\n",
       "      <td>Агата</td>\n",
       "      <td>26</td>\n",
       "      <td>Краснодар</td>\n",
       "      <td>ultra</td>\n",
       "    </tr>\n",
       "    <tr>\n",
       "      <th>1535</th>\n",
       "      <td>16</td>\n",
       "      <td>Амалия</td>\n",
       "      <td>27</td>\n",
       "      <td>Краснодар</td>\n",
       "      <td>ultra</td>\n",
       "    </tr>\n",
       "    <tr>\n",
       "      <th>1536</th>\n",
       "      <td>909</td>\n",
       "      <td>Константин</td>\n",
       "      <td>20</td>\n",
       "      <td>Екатеринбург</td>\n",
       "      <td>free</td>\n",
       "    </tr>\n",
       "    <tr>\n",
       "      <th>1537</th>\n",
       "      <td>403</td>\n",
       "      <td>Полина</td>\n",
       "      <td>19</td>\n",
       "      <td>Сочи</td>\n",
       "      <td>ultra</td>\n",
       "    </tr>\n",
       "    <tr>\n",
       "      <th>1538</th>\n",
       "      <td>908</td>\n",
       "      <td>Рустам</td>\n",
       "      <td>30</td>\n",
       "      <td>Тюмень</td>\n",
       "      <td>free</td>\n",
       "    </tr>\n",
       "    <tr>\n",
       "      <th>1539</th>\n",
       "      <td>43</td>\n",
       "      <td>Стефания</td>\n",
       "      <td>22</td>\n",
       "      <td>Омск</td>\n",
       "      <td>ultra</td>\n",
       "    </tr>\n",
       "    <tr>\n",
       "      <th>1540</th>\n",
       "      <td>127</td>\n",
       "      <td>Павел</td>\n",
       "      <td>25</td>\n",
       "      <td>Пятигорск</td>\n",
       "      <td>ultra</td>\n",
       "    </tr>\n",
       "    <tr>\n",
       "      <th>1541</th>\n",
       "      <td>659</td>\n",
       "      <td>Злата</td>\n",
       "      <td>27</td>\n",
       "      <td>Ростов-на-Дону</td>\n",
       "      <td>ultra</td>\n",
       "    </tr>\n",
       "    <tr>\n",
       "      <th>1542</th>\n",
       "      <td>204</td>\n",
       "      <td>Руслан</td>\n",
       "      <td>30</td>\n",
       "      <td>Пятигорск</td>\n",
       "      <td>ultra</td>\n",
       "    </tr>\n",
       "    <tr>\n",
       "      <th>1543</th>\n",
       "      <td>153</td>\n",
       "      <td>Герман</td>\n",
       "      <td>23</td>\n",
       "      <td>Москва</td>\n",
       "      <td>ultra</td>\n",
       "    </tr>\n",
       "    <tr>\n",
       "      <th>1544</th>\n",
       "      <td>1245</td>\n",
       "      <td>Регина</td>\n",
       "      <td>27</td>\n",
       "      <td>Пятигорск</td>\n",
       "      <td>free</td>\n",
       "    </tr>\n",
       "    <tr>\n",
       "      <th>1545</th>\n",
       "      <td>807</td>\n",
       "      <td>Александр</td>\n",
       "      <td>28</td>\n",
       "      <td>Екатеринбург</td>\n",
       "      <td>free</td>\n",
       "    </tr>\n",
       "    <tr>\n",
       "      <th>1546</th>\n",
       "      <td>924</td>\n",
       "      <td>Мария</td>\n",
       "      <td>23</td>\n",
       "      <td>Пятигорск</td>\n",
       "      <td>free</td>\n",
       "    </tr>\n",
       "    <tr>\n",
       "      <th>1547</th>\n",
       "      <td>635</td>\n",
       "      <td>Герман</td>\n",
       "      <td>21</td>\n",
       "      <td>Москва</td>\n",
       "      <td>ultra</td>\n",
       "    </tr>\n",
       "    <tr>\n",
       "      <th>1548</th>\n",
       "      <td>136</td>\n",
       "      <td>Марсель</td>\n",
       "      <td>25</td>\n",
       "      <td>Тюмень</td>\n",
       "      <td>ultra</td>\n",
       "    </tr>\n",
       "    <tr>\n",
       "      <th>1549</th>\n",
       "      <td>108</td>\n",
       "      <td>Влада</td>\n",
       "      <td>29</td>\n",
       "      <td>Тюмень</td>\n",
       "      <td>ultra</td>\n",
       "    </tr>\n",
       "    <tr>\n",
       "      <th>1550</th>\n",
       "      <td>737</td>\n",
       "      <td>Мелания</td>\n",
       "      <td>27</td>\n",
       "      <td>Ростов-на-Дону</td>\n",
       "      <td>free</td>\n",
       "    </tr>\n",
       "    <tr>\n",
       "      <th>1551</th>\n",
       "      <td>666</td>\n",
       "      <td>Зарина</td>\n",
       "      <td>29</td>\n",
       "      <td>Москва</td>\n",
       "      <td>ultra</td>\n",
       "    </tr>\n",
       "    <tr>\n",
       "      <th>1552</th>\n",
       "      <td>297</td>\n",
       "      <td>Егор</td>\n",
       "      <td>33</td>\n",
       "      <td>Пятигорск</td>\n",
       "      <td>ultra</td>\n",
       "    </tr>\n",
       "    <tr>\n",
       "      <th>1553</th>\n",
       "      <td>121</td>\n",
       "      <td>Алина</td>\n",
       "      <td>25</td>\n",
       "      <td>Пятигорск</td>\n",
       "      <td>ultra</td>\n",
       "    </tr>\n",
       "    <tr>\n",
       "      <th>1554</th>\n",
       "      <td>1198</td>\n",
       "      <td>Демид</td>\n",
       "      <td>29</td>\n",
       "      <td>Ростов-на-Дону</td>\n",
       "      <td>free</td>\n",
       "    </tr>\n",
       "    <tr>\n",
       "      <th>1555</th>\n",
       "      <td>72</td>\n",
       "      <td>Никита</td>\n",
       "      <td>25</td>\n",
       "      <td>Москва</td>\n",
       "      <td>ultra</td>\n",
       "    </tr>\n",
       "    <tr>\n",
       "      <th>1556</th>\n",
       "      <td>422</td>\n",
       "      <td>Кирилл</td>\n",
       "      <td>27</td>\n",
       "      <td>Сочи</td>\n",
       "      <td>ultra</td>\n",
       "    </tr>\n",
       "    <tr>\n",
       "      <th>1557</th>\n",
       "      <td>611</td>\n",
       "      <td>Владимир</td>\n",
       "      <td>28</td>\n",
       "      <td>Омск</td>\n",
       "      <td>ultra</td>\n",
       "    </tr>\n",
       "    <tr>\n",
       "      <th>1558</th>\n",
       "      <td>1237</td>\n",
       "      <td>Евгения</td>\n",
       "      <td>23</td>\n",
       "      <td>Тюмень</td>\n",
       "      <td>free</td>\n",
       "    </tr>\n",
       "    <tr>\n",
       "      <th>1559</th>\n",
       "      <td>209</td>\n",
       "      <td>Андрей</td>\n",
       "      <td>23</td>\n",
       "      <td>Омск</td>\n",
       "      <td>ultra</td>\n",
       "    </tr>\n",
       "    <tr>\n",
       "      <th>1560</th>\n",
       "      <td>829</td>\n",
       "      <td>Федор</td>\n",
       "      <td>29</td>\n",
       "      <td>Пятигорск</td>\n",
       "      <td>free</td>\n",
       "    </tr>\n",
       "    <tr>\n",
       "      <th>1561</th>\n",
       "      <td>809</td>\n",
       "      <td>Юрий</td>\n",
       "      <td>26</td>\n",
       "      <td>Сочи</td>\n",
       "      <td>free</td>\n",
       "    </tr>\n",
       "    <tr>\n",
       "      <th>1562</th>\n",
       "      <td>307</td>\n",
       "      <td>Ясмина</td>\n",
       "      <td>19</td>\n",
       "      <td>Краснодар</td>\n",
       "      <td>ultra</td>\n",
       "    </tr>\n",
       "    <tr>\n",
       "      <th>1563</th>\n",
       "      <td>47</td>\n",
       "      <td>Юрий</td>\n",
       "      <td>28</td>\n",
       "      <td>Тюмень</td>\n",
       "      <td>ultra</td>\n",
       "    </tr>\n",
       "    <tr>\n",
       "      <th>1564</th>\n",
       "      <td>1045</td>\n",
       "      <td>Артемий</td>\n",
       "      <td>28</td>\n",
       "      <td>Ростов-на-Дону</td>\n",
       "      <td>free</td>\n",
       "    </tr>\n",
       "  </tbody>\n",
       "</table>\n",
       "</div>"
      ],
      "text/plain": [
       "      user_id        name  age            city subscription_type\n",
       "1534      293       Агата   26       Краснодар             ultra\n",
       "1535       16      Амалия   27       Краснодар             ultra\n",
       "1536      909  Константин   20    Екатеринбург              free\n",
       "1537      403      Полина   19            Сочи             ultra\n",
       "1538      908      Рустам   30          Тюмень              free\n",
       "1539       43    Стефания   22            Омск             ultra\n",
       "1540      127       Павел   25       Пятигорск             ultra\n",
       "1541      659       Злата   27  Ростов-на-Дону             ultra\n",
       "1542      204      Руслан   30       Пятигорск             ultra\n",
       "1543      153      Герман   23          Москва             ultra\n",
       "1544     1245      Регина   27       Пятигорск              free\n",
       "1545      807   Александр   28    Екатеринбург              free\n",
       "1546      924       Мария   23       Пятигорск              free\n",
       "1547      635      Герман   21          Москва             ultra\n",
       "1548      136     Марсель   25          Тюмень             ultra\n",
       "1549      108       Влада   29          Тюмень             ultra\n",
       "1550      737     Мелания   27  Ростов-на-Дону              free\n",
       "1551      666      Зарина   29          Москва             ultra\n",
       "1552      297        Егор   33       Пятигорск             ultra\n",
       "1553      121       Алина   25       Пятигорск             ultra\n",
       "1554     1198       Демид   29  Ростов-на-Дону              free\n",
       "1555       72      Никита   25          Москва             ultra\n",
       "1556      422      Кирилл   27            Сочи             ultra\n",
       "1557      611    Владимир   28            Омск             ultra\n",
       "1558     1237     Евгения   23          Тюмень              free\n",
       "1559      209      Андрей   23            Омск             ultra\n",
       "1560      829       Федор   29       Пятигорск              free\n",
       "1561      809        Юрий   26            Сочи              free\n",
       "1562      307      Ясмина   19       Краснодар             ultra\n",
       "1563       47        Юрий   28          Тюмень             ultra\n",
       "1564     1045     Артемий   28  Ростов-на-Дону              free"
      ]
     },
     "execution_count": 11,
     "metadata": {},
     "output_type": "execute_result"
    }
   ],
   "source": [
    "data_users[data_users['user_id'].duplicated()]"
   ]
  },
  {
   "cell_type": "code",
   "execution_count": 12,
   "id": "11f5b17a-1ab5-4eb1-9082-8df4b0120bc2",
   "metadata": {},
   "outputs": [
    {
     "data": {
      "text/plain": [
       "31"
      ]
     },
     "execution_count": 12,
     "metadata": {},
     "output_type": "execute_result"
    }
   ],
   "source": [
    "# Выведем количество дубликатов\n",
    "data_users['user_id'].duplicated().sum()"
   ]
  },
  {
   "cell_type": "markdown",
   "id": "0da717b4-c4c9-452c-b3e7-4ff134257423",
   "metadata": {},
   "source": [
    "Обнаружен 31 дубликат. Перед тем как решить, что делать с этими записями, необходимо проверить, чем записи отличаются."
   ]
  },
  {
   "cell_type": "markdown",
   "id": "f81aa233-6154-4b22-b3c4-627f648956d8",
   "metadata": {},
   "source": [
    "### Выявим различия в дубликатах"
   ]
  },
  {
   "cell_type": "code",
   "execution_count": 13,
   "id": "1ec9c89c-1a0e-41f9-855a-b940c8095886",
   "metadata": {},
   "outputs": [
    {
     "data": {
      "text/html": [
       "<div>\n",
       "<style scoped>\n",
       "    .dataframe tbody tr th:only-of-type {\n",
       "        vertical-align: middle;\n",
       "    }\n",
       "\n",
       "    .dataframe tbody tr th {\n",
       "        vertical-align: top;\n",
       "    }\n",
       "\n",
       "    .dataframe thead th {\n",
       "        text-align: right;\n",
       "    }\n",
       "</style>\n",
       "<table border=\"1\" class=\"dataframe\">\n",
       "  <thead>\n",
       "    <tr style=\"text-align: right;\">\n",
       "      <th></th>\n",
       "      <th>user_id</th>\n",
       "      <th>name</th>\n",
       "      <th>age</th>\n",
       "      <th>city</th>\n",
       "      <th>subscription_type</th>\n",
       "    </tr>\n",
       "  </thead>\n",
       "  <tbody>\n",
       "    <tr>\n",
       "      <th>15</th>\n",
       "      <td>16</td>\n",
       "      <td>Амалия</td>\n",
       "      <td>27</td>\n",
       "      <td>Краснодар</td>\n",
       "      <td>ultra</td>\n",
       "    </tr>\n",
       "    <tr>\n",
       "      <th>1535</th>\n",
       "      <td>16</td>\n",
       "      <td>Амалия</td>\n",
       "      <td>27</td>\n",
       "      <td>Краснодар</td>\n",
       "      <td>ultra</td>\n",
       "    </tr>\n",
       "    <tr>\n",
       "      <th>42</th>\n",
       "      <td>43</td>\n",
       "      <td>Стефания</td>\n",
       "      <td>22</td>\n",
       "      <td>Омск</td>\n",
       "      <td>ultra</td>\n",
       "    </tr>\n",
       "    <tr>\n",
       "      <th>1539</th>\n",
       "      <td>43</td>\n",
       "      <td>Стефания</td>\n",
       "      <td>22</td>\n",
       "      <td>Омск</td>\n",
       "      <td>ultra</td>\n",
       "    </tr>\n",
       "    <tr>\n",
       "      <th>1563</th>\n",
       "      <td>47</td>\n",
       "      <td>Юрий</td>\n",
       "      <td>28</td>\n",
       "      <td>Тюмень</td>\n",
       "      <td>ultra</td>\n",
       "    </tr>\n",
       "    <tr>\n",
       "      <th>...</th>\n",
       "      <td>...</td>\n",
       "      <td>...</td>\n",
       "      <td>...</td>\n",
       "      <td>...</td>\n",
       "      <td>...</td>\n",
       "    </tr>\n",
       "    <tr>\n",
       "      <th>1554</th>\n",
       "      <td>1198</td>\n",
       "      <td>Демид</td>\n",
       "      <td>29</td>\n",
       "      <td>Ростов-на-Дону</td>\n",
       "      <td>free</td>\n",
       "    </tr>\n",
       "    <tr>\n",
       "      <th>1558</th>\n",
       "      <td>1237</td>\n",
       "      <td>Евгения</td>\n",
       "      <td>23</td>\n",
       "      <td>Тюмень</td>\n",
       "      <td>free</td>\n",
       "    </tr>\n",
       "    <tr>\n",
       "      <th>1236</th>\n",
       "      <td>1237</td>\n",
       "      <td>Евгения</td>\n",
       "      <td>23</td>\n",
       "      <td>Тюмень</td>\n",
       "      <td>free</td>\n",
       "    </tr>\n",
       "    <tr>\n",
       "      <th>1544</th>\n",
       "      <td>1245</td>\n",
       "      <td>Регина</td>\n",
       "      <td>27</td>\n",
       "      <td>Пятигорск</td>\n",
       "      <td>free</td>\n",
       "    </tr>\n",
       "    <tr>\n",
       "      <th>1244</th>\n",
       "      <td>1245</td>\n",
       "      <td>Регина</td>\n",
       "      <td>27</td>\n",
       "      <td>Пятигорск</td>\n",
       "      <td>free</td>\n",
       "    </tr>\n",
       "  </tbody>\n",
       "</table>\n",
       "<p>62 rows × 5 columns</p>\n",
       "</div>"
      ],
      "text/plain": [
       "      user_id      name  age            city subscription_type\n",
       "15         16    Амалия   27       Краснодар             ultra\n",
       "1535       16    Амалия   27       Краснодар             ultra\n",
       "42         43  Стефания   22            Омск             ultra\n",
       "1539       43  Стефания   22            Омск             ultra\n",
       "1563       47      Юрий   28          Тюмень             ultra\n",
       "...       ...       ...  ...             ...               ...\n",
       "1554     1198     Демид   29  Ростов-на-Дону              free\n",
       "1558     1237   Евгения   23          Тюмень              free\n",
       "1236     1237   Евгения   23          Тюмень              free\n",
       "1544     1245    Регина   27       Пятигорск              free\n",
       "1244     1245    Регина   27       Пятигорск              free\n",
       "\n",
       "[62 rows x 5 columns]"
      ]
     },
     "execution_count": 13,
     "metadata": {},
     "output_type": "execute_result"
    }
   ],
   "source": [
    "data_users[data_users.duplicated(subset='user_id', keep=False)].sort_values(by='user_id')"
   ]
  },
  {
   "cell_type": "markdown",
   "id": "43a735ca-9566-41af-9013-e7007e48307d",
   "metadata": {},
   "source": [
    "Дублирующие строки идентичны между собой. Возвожно, что пользователь восстанавливал доступ к своему профилю и появлялась новая строка, а не редактировалась старая запись или данные были ранее объеденены неправильно."
   ]
  },
  {
   "cell_type": "markdown",
   "id": "c891c6af-d9a8-413f-abad-fe6eda337c74",
   "metadata": {},
   "source": [
    "### Обработаем дубликаты"
   ]
  },
  {
   "cell_type": "code",
   "execution_count": 14,
   "id": "cb85a8f2-8878-420d-97db-06bc9096dc7b",
   "metadata": {},
   "outputs": [
    {
     "data": {
      "text/plain": [
       "0"
      ]
     },
     "execution_count": 14,
     "metadata": {},
     "output_type": "execute_result"
    }
   ],
   "source": [
    "# Оставим последнюю запись\n",
    "data_users = data_users.drop_duplicates(subset='user_id', keep='last').reset_index(drop=True)\n",
    "# Выведем количество дубликатов\n",
    "data_users['user_id'].duplicated().sum()"
   ]
  },
  {
   "cell_type": "markdown",
   "id": "59d281cb-6ec5-44c1-9656-119267ed9436",
   "metadata": {},
   "source": [
    "Было принято решение оставить последнюю запись."
   ]
  },
  {
   "cell_type": "markdown",
   "id": "4c0a4231-b5f0-4ddc-bebe-6f5abaef49cf",
   "metadata": {},
   "source": [
    "### Проверим наличие дубликатов в data_rides\n"
   ]
  },
  {
   "cell_type": "code",
   "execution_count": 15,
   "id": "91970b56-e9dd-44ba-a77a-7d298c91fb59",
   "metadata": {},
   "outputs": [
    {
     "data": {
      "text/plain": [
       "0"
      ]
     },
     "execution_count": 15,
     "metadata": {},
     "output_type": "execute_result"
    }
   ],
   "source": [
    "data_rides.duplicated().sum()"
   ]
  },
  {
   "cell_type": "markdown",
   "id": "b66cb470-61e3-46f9-938f-904674c32800",
   "metadata": {},
   "source": [
    "Дубликаты отсутствуют"
   ]
  },
  {
   "cell_type": "markdown",
   "id": "49e45bfa-5a03-4c41-aa78-89d26366b3e3",
   "metadata": {},
   "source": [
    "## Промежуточный вывод\n",
    "\n",
    "Проведя предобработку данных было выполненно:\n",
    "- приведен тип данных стобца date в rides_go к типу datetime\n",
    "- создан новый столбец с номером месяца на основе столбца date\n",
    "- Проверили наличие дубликатов\n",
    "\n",
    "В датафрейме `data_users` в столбце `user_id` было обнаружено и обработано 31 дубликат. Нас интересовал именно этот столбец, т.к. в нем должны храниться уникальные значения. Дубликаты могли возникнуть по нескольким причинам:\n",
    "1. пользователь восстанавливал доступ к своему профилю и появлялась новая строка, а не редактировалась старая запись\n",
    "2. данные были ранее объеденены неправильно\n",
    "\n",
    "В датафрейме data_rides дубликаты отсутствуют. В data_subscriptions всего 2 строки, проверять на дубли нецелесообразно."
   ]
  },
  {
   "cell_type": "markdown",
   "id": "212593c7",
   "metadata": {},
   "source": [
    "# Исследовательский анализ данных"
   ]
  },
  {
   "cell_type": "markdown",
   "id": "7d7d2707-d6ca-4483-ba79-d8fab351e110",
   "metadata": {},
   "source": [
    "## График частоты встречаемости городов"
   ]
  },
  {
   "cell_type": "code",
   "execution_count": 16,
   "id": "e3a4274c",
   "metadata": {},
   "outputs": [
    {
     "data": {
      "image/png": "[encoded data removed]",
      "text/plain": [
       "<Figure size 864x432 with 1 Axes>"
      ]
     },
     "metadata": {},
     "output_type": "display_data"
    }
   ],
   "source": [
    "# посчитаем количество пользователей в городах\n",
    "city_counts = data_users['city'].value_counts()\n",
    "\n",
    "# настроим график\n",
    "plt.figure(figsize=(12, 6))\n",
    "sns.barplot(x=city_counts.index, y=city_counts.values, palette='viridis')\n",
    "plt.xticks(rotation=45, ha='right')\n",
    "plt.xlabel('Город')\n",
    "plt.ylabel('Количество пользователей')\n",
    "plt.title('Частота встречаемости городов среди пользователей')\n",
    "\n",
    "# вывод графика\n",
    "plt.show()"
   ]
  },
  {
   "cell_type": "markdown",
   "id": "1b413695-94fa-4204-83f1-17dcf1ea4ea3",
   "metadata": {},
   "source": [
    "На первом месте по количеству пользователей находится Пятигорск. Москва - самый крупный город из представленных, но она находится на последнем месте. Низкое количество пользователей можно объяснить высокой конкуренцией с другими сервисами проката."
   ]
  },
  {
   "cell_type": "markdown",
   "id": "2510f792-145e-432e-84bd-dac5b275d83d",
   "metadata": {},
   "source": [
    "## График соотношения пользователей с подпиской и без подписки"
   ]
  },
  {
   "cell_type": "code",
   "execution_count": 17,
   "id": "5576efd4-c0ca-4204-b0d0-ab8a082d7309",
   "metadata": {},
   "outputs": [
    {
     "data": {
      "image/png": "[encoded data removed]",
      "text/plain": [
       "<Figure size 504x504 with 1 Axes>"
      ]
     },
     "metadata": {},
     "output_type": "display_data"
    }
   ],
   "source": [
    "# Отфильтруем пользователей с подпиской и без\n",
    "subscription = data_users[data_users['subscription_type'] == 'ultra'].shape[0]\n",
    "without_subscription = data_users[data_users['subscription_type'] == 'free'].shape[0]\n",
    "\n",
    "# Данные для диаграммы\n",
    "labels = ['С подпиской', 'Без подписки']\n",
    "sizes = [subscription, without_subscription]\n",
    "colors = ['green', 'red']\n",
    "\n",
    "# Настройки для круговой диаграммы\n",
    "plt.figure(figsize=(7, 7))\n",
    "plt.pie(sizes, labels=labels, autopct='%1.1f%%', colors=colors, startangle=140, wedgeprops={'edgecolor': 'black'})\n",
    "\n",
    "# Заголовок\n",
    "plt.title('Соотношение пользователей с подпиской и без подписки')\n",
    "\n",
    "# Показываем график\n",
    "plt.show()"
   ]
  },
  {
   "cell_type": "markdown",
   "id": "31733f65-0824-413f-8724-e8f08c90908f",
   "metadata": {},
   "source": [
    "Соотношение пользователей с подпиской и без подписки практически равнораспределенны."
   ]
  },
  {
   "cell_type": "markdown",
   "id": "80cf2e81-9c53-4af4-bffe-15e4fb4f95e0",
   "metadata": {},
   "source": [
    "## График распределения пользователей по возрасту"
   ]
  },
  {
   "cell_type": "code",
   "execution_count": 18,
   "id": "ed719135-92fb-4bf4-8bca-9218f9b98c73",
   "metadata": {},
   "outputs": [
    {
     "data": {
      "image/png": "[encoded data removed]",
      "text/plain": [
       "<Figure size 864x432 with 1 Axes>"
      ]
     },
     "metadata": {},
     "output_type": "display_data"
    },
    {
     "name": "stdout",
     "output_type": "stream",
     "text": [
      "Минимальный возраст пользователей: 12\n",
      "Максимальный возраст пользователей: 43\n"
     ]
    }
   ],
   "source": [
    "# Подсчитаем количество пользователей по годам\n",
    "ages_count = data_users['age'].value_counts()\n",
    "\n",
    "# Преобразуем в DataFrame для удобства\n",
    "ages_df = ages_count.reset_index()\n",
    "ages_df.columns = ['age', 'count']\n",
    "\n",
    "# Настройки для графика\n",
    "plt.figure(figsize=(12, 6))\n",
    "plt.bar(ages_df['age'], ages_df['count'], color='purple', edgecolor='black')\n",
    "\n",
    "# Заголовок\n",
    "plt.title('Распределение пользователей по возрасту')\n",
    "\n",
    "\n",
    "plt.xlabel('Возраст')\n",
    "plt.ylabel('Количество пользователей')\n",
    "\n",
    "# Показываем график\n",
    "plt.show()\n",
    "\n",
    "print(f\"Минимальный возраст пользователей: {ages_df['age'].min()}\")\n",
    "print(f\"Максимальный возраст пользователей: {ages_df['age'].max()}\")"
   ]
  },
  {
   "cell_type": "markdown",
   "id": "860a3f6f-34fd-4902-99db-7b6c7f7ad103",
   "metadata": {},
   "source": [
    "Возраст пользователей нормально распределен. Минимальный и максимальный возраст составляют 12 и 43, соответственно. Средний возраст, как видно на графике, 25 лет. "
   ]
  },
  {
   "cell_type": "code",
   "execution_count": 19,
   "id": "48907204-6c6a-4565-a7bd-44fb81fcf600",
   "metadata": {},
   "outputs": [
    {
     "data": {
      "text/html": [
       "<div>\n",
       "<style scoped>\n",
       "    .dataframe tbody tr th:only-of-type {\n",
       "        vertical-align: middle;\n",
       "    }\n",
       "\n",
       "    .dataframe tbody tr th {\n",
       "        vertical-align: top;\n",
       "    }\n",
       "\n",
       "    .dataframe thead th {\n",
       "        text-align: right;\n",
       "    }\n",
       "</style>\n",
       "<table border=\"1\" class=\"dataframe\">\n",
       "  <thead>\n",
       "    <tr style=\"text-align: right;\">\n",
       "      <th></th>\n",
       "      <th>age</th>\n",
       "      <th>count</th>\n",
       "    </tr>\n",
       "  </thead>\n",
       "  <tbody>\n",
       "    <tr>\n",
       "      <th>count</th>\n",
       "      <td>29.000000</td>\n",
       "      <td>29.000000</td>\n",
       "    </tr>\n",
       "    <tr>\n",
       "      <th>mean</th>\n",
       "      <td>26.103448</td>\n",
       "      <td>52.896552</td>\n",
       "    </tr>\n",
       "    <tr>\n",
       "      <th>std</th>\n",
       "      <td>8.706914</td>\n",
       "      <td>48.824280</td>\n",
       "    </tr>\n",
       "    <tr>\n",
       "      <th>min</th>\n",
       "      <td>12.000000</td>\n",
       "      <td>1.000000</td>\n",
       "    </tr>\n",
       "    <tr>\n",
       "      <th>25%</th>\n",
       "      <td>19.000000</td>\n",
       "      <td>9.000000</td>\n",
       "    </tr>\n",
       "    <tr>\n",
       "      <th>50%</th>\n",
       "      <td>26.000000</td>\n",
       "      <td>41.000000</td>\n",
       "    </tr>\n",
       "    <tr>\n",
       "      <th>75%</th>\n",
       "      <td>33.000000</td>\n",
       "      <td>93.000000</td>\n",
       "    </tr>\n",
       "    <tr>\n",
       "      <th>max</th>\n",
       "      <td>43.000000</td>\n",
       "      <td>145.000000</td>\n",
       "    </tr>\n",
       "  </tbody>\n",
       "</table>\n",
       "</div>"
      ],
      "text/plain": [
       "             age       count\n",
       "count  29.000000   29.000000\n",
       "mean   26.103448   52.896552\n",
       "std     8.706914   48.824280\n",
       "min    12.000000    1.000000\n",
       "25%    19.000000    9.000000\n",
       "50%    26.000000   41.000000\n",
       "75%    33.000000   93.000000\n",
       "max    43.000000  145.000000"
      ]
     },
     "execution_count": 19,
     "metadata": {},
     "output_type": "execute_result"
    }
   ],
   "source": [
    "ages_df.describe()"
   ]
  },
  {
   "cell_type": "markdown",
   "id": "17f93e3d-0764-4ef4-9c52-c0b4cfda641b",
   "metadata": {},
   "source": [
    "## График расстояния, которое пользователь преодолел за одну поездку"
   ]
  },
  {
   "cell_type": "code",
   "execution_count": 20,
   "id": "bcecf23b-2872-442e-b872-8a3573a7f5d4",
   "metadata": {},
   "outputs": [
    {
     "data": {
      "image/png": "[encoded data removed]",
      "text/plain": [
       "<Figure size 720x360 with 1 Axes>"
      ]
     },
     "metadata": {},
     "output_type": "display_data"
    },
    {
     "name": "stdout",
     "output_type": "stream",
     "text": [
      "Минимальная поездка: 0.855682925681208 м\n",
      "Максимальная поездка: 7211.007744598519 м\n"
     ]
    }
   ],
   "source": [
    "# Настройка графика\n",
    "plt.figure(figsize=(10, 5))\n",
    "sns.histplot(data_rides['distance'], bins=50, kde=True, color='royalblue')\n",
    "plt.xlabel('Расстояние (м)')\n",
    "plt.ylabel('Частота')\n",
    "plt.title('Распределение расстояния поездок')\n",
    "\n",
    "# Показываем график\n",
    "plt.show()\n",
    "\n",
    "print(f\"Минимальная поездка: {data_rides['distance'].min()} м\")\n",
    "print(f\"Максимальная поездка: {data_rides['distance'].max()} м\")"
   ]
  },
  {
   "cell_type": "markdown",
   "id": "2f0f3be1-4068-47d3-b9aa-30320ed5c9d6",
   "metadata": {},
   "source": [
    "Большинство поездок находятся в интервале от 2 до 5 км, среднее расстояние, которое проезжает пользователь примерно 3 км. Также, есть маленький пик около 500м - короткие поедки.\n",
    "\n",
    "Минимальное расстояние - 0.8м. Возможно пользователь отказался от поездки сразу после подтверждения или оформил поездку по ошибке. \n",
    "Максимальное расстояние - 7211м. Поездки свыше 6000м встречаются редко."
   ]
  },
  {
   "cell_type": "markdown",
   "id": "bd2de062-81ec-400f-a9c6-c4b13bcc48d4",
   "metadata": {},
   "source": [
    "## График продолжительности поездок"
   ]
  },
  {
   "cell_type": "code",
   "execution_count": 21,
   "id": "facbb22b-31e5-42aa-854d-f36a818a4c58",
   "metadata": {},
   "outputs": [
    {
     "data": {
      "image/png": "[encoded data removed]",
      "text/plain": [
       "<Figure size 720x360 with 1 Axes>"
      ]
     },
     "metadata": {},
     "output_type": "display_data"
    },
    {
     "name": "stdout",
     "output_type": "stream",
     "text": [
      "Минимальное время поездки: 0.5 м\n",
      "Максимальное время поездки: 40.82396261922424 м\n"
     ]
    }
   ],
   "source": [
    "# Настройка графика\n",
    "plt.figure(figsize=(10, 5))\n",
    "sns.histplot(data_rides['duration'], bins=50, kde=True, color='royalblue')\n",
    "plt.xlabel('Продолжительность поездки (минуты)')\n",
    "plt.ylabel('Частота')\n",
    "\n",
    "# Заголовок\n",
    "plt.title('Распределение продолжительности поездок')\n",
    "\n",
    "# Показываем график\n",
    "plt.show()\n",
    "\n",
    "print(f\"Минимальное время поездки: {data_rides['duration'].min()} м\")\n",
    "print(f\"Максимальное время поездки: {data_rides['duration'].max()} м\")"
   ]
  },
  {
   "cell_type": "markdown",
   "id": "47146165-0b8e-426a-87b7-caf146c450e9",
   "metadata": {},
   "source": [
    "Большая часть поездок находится в диапазоне от 10 до 25 минут, есть незначительно количество поездок свыше 35 минут. "
   ]
  },
  {
   "cell_type": "markdown",
   "id": "a156c7e6-7ad5-4fb5-b13e-85a749016dd3",
   "metadata": {},
   "source": [
    "## Промежуточный вывод\n",
    "\n",
    "Проведя исследовательский анализ данных мы выяснили:\n",
    "1. Максимальное количество пользователей находится в городе Пятигорск. Москва, хоть и является самым густонаселенным городом в России, занимает последнее место по количеству пользователей. Это может быть обусловленно высокой конкуренцией среди сервисов проката. Южные города: Пятигорск, Ростов-на-Дону, Краснодар, Сочи - занимают Топ-5 по количеству пользователей. Этому могло способствовать наличие большого количества туристов.\n",
    "2. Количество польователей с подпиской и без практически одинаково.\n",
    "3. Средний возраст пользователей составляет 25 лет. Большинство людей пользующихся сервисом в возрасте от 20 до 30 лет.\n",
    "4. Среднее расстояние за одну поездку составляет примерно 3 км. Большая часть поездок находится в диапазоне от 2-х до 5 км. Также есть некоторое количество коротких поездок - до 2 км.\n",
    "5. Большая часть поездок находится в диапазоне от 10 до 25 минут. "
   ]
  },
  {
   "cell_type": "markdown",
   "id": "4ef51331",
   "metadata": {},
   "source": [
    "# Объединение данных"
   ]
  },
  {
   "cell_type": "markdown",
   "id": "c49b5804-2823-4226-82a1-6c22448bd198",
   "metadata": {},
   "source": [
    "## Объединим data_users, data_rides и data_subscription в один датафрейм"
   ]
  },
  {
   "cell_type": "code",
   "execution_count": 22,
   "id": "3e7e54e3-1784-43e5-b051-78ca17375278",
   "metadata": {},
   "outputs": [
    {
     "data": {
      "text/html": [
       "<div>\n",
       "<style scoped>\n",
       "    .dataframe tbody tr th:only-of-type {\n",
       "        vertical-align: middle;\n",
       "    }\n",
       "\n",
       "    .dataframe tbody tr th {\n",
       "        vertical-align: top;\n",
       "    }\n",
       "\n",
       "    .dataframe thead th {\n",
       "        text-align: right;\n",
       "    }\n",
       "</style>\n",
       "<table border=\"1\" class=\"dataframe\">\n",
       "  <thead>\n",
       "    <tr style=\"text-align: right;\">\n",
       "      <th></th>\n",
       "      <th>user_id</th>\n",
       "      <th>name</th>\n",
       "      <th>age</th>\n",
       "      <th>city</th>\n",
       "      <th>subscription_type</th>\n",
       "      <th>distance</th>\n",
       "      <th>duration</th>\n",
       "      <th>date</th>\n",
       "      <th>month</th>\n",
       "      <th>minute_price</th>\n",
       "      <th>start_ride_price</th>\n",
       "      <th>subscription_fee</th>\n",
       "    </tr>\n",
       "  </thead>\n",
       "  <tbody>\n",
       "    <tr>\n",
       "      <th>0</th>\n",
       "      <td>1</td>\n",
       "      <td>Кира</td>\n",
       "      <td>22</td>\n",
       "      <td>Тюмень</td>\n",
       "      <td>ultra</td>\n",
       "      <td>4409.919140</td>\n",
       "      <td>25.599769</td>\n",
       "      <td>2021-01-01</td>\n",
       "      <td>1</td>\n",
       "      <td>6</td>\n",
       "      <td>0</td>\n",
       "      <td>199</td>\n",
       "    </tr>\n",
       "    <tr>\n",
       "      <th>1</th>\n",
       "      <td>1</td>\n",
       "      <td>Кира</td>\n",
       "      <td>22</td>\n",
       "      <td>Тюмень</td>\n",
       "      <td>ultra</td>\n",
       "      <td>2617.592153</td>\n",
       "      <td>15.816871</td>\n",
       "      <td>2021-01-18</td>\n",
       "      <td>1</td>\n",
       "      <td>6</td>\n",
       "      <td>0</td>\n",
       "      <td>199</td>\n",
       "    </tr>\n",
       "    <tr>\n",
       "      <th>2</th>\n",
       "      <td>1</td>\n",
       "      <td>Кира</td>\n",
       "      <td>22</td>\n",
       "      <td>Тюмень</td>\n",
       "      <td>ultra</td>\n",
       "      <td>754.159807</td>\n",
       "      <td>6.232113</td>\n",
       "      <td>2021-04-20</td>\n",
       "      <td>4</td>\n",
       "      <td>6</td>\n",
       "      <td>0</td>\n",
       "      <td>199</td>\n",
       "    </tr>\n",
       "    <tr>\n",
       "      <th>3</th>\n",
       "      <td>1</td>\n",
       "      <td>Кира</td>\n",
       "      <td>22</td>\n",
       "      <td>Тюмень</td>\n",
       "      <td>ultra</td>\n",
       "      <td>2694.783254</td>\n",
       "      <td>18.511000</td>\n",
       "      <td>2021-08-11</td>\n",
       "      <td>8</td>\n",
       "      <td>6</td>\n",
       "      <td>0</td>\n",
       "      <td>199</td>\n",
       "    </tr>\n",
       "    <tr>\n",
       "      <th>4</th>\n",
       "      <td>1</td>\n",
       "      <td>Кира</td>\n",
       "      <td>22</td>\n",
       "      <td>Тюмень</td>\n",
       "      <td>ultra</td>\n",
       "      <td>4028.687306</td>\n",
       "      <td>26.265803</td>\n",
       "      <td>2021-08-28</td>\n",
       "      <td>8</td>\n",
       "      <td>6</td>\n",
       "      <td>0</td>\n",
       "      <td>199</td>\n",
       "    </tr>\n",
       "  </tbody>\n",
       "</table>\n",
       "</div>"
      ],
      "text/plain": [
       "   user_id  name  age    city subscription_type     distance   duration  \\\n",
       "0        1  Кира   22  Тюмень             ultra  4409.919140  25.599769   \n",
       "1        1  Кира   22  Тюмень             ultra  2617.592153  15.816871   \n",
       "2        1  Кира   22  Тюмень             ultra   754.159807   6.232113   \n",
       "3        1  Кира   22  Тюмень             ultra  2694.783254  18.511000   \n",
       "4        1  Кира   22  Тюмень             ultra  4028.687306  26.265803   \n",
       "\n",
       "         date  month  minute_price  start_ride_price  subscription_fee  \n",
       "0  2021-01-01      1             6                 0               199  \n",
       "1  2021-01-18      1             6                 0               199  \n",
       "2  2021-04-20      4             6                 0               199  \n",
       "3  2021-08-11      8             6                 0               199  \n",
       "4  2021-08-28      8             6                 0               199  "
      ]
     },
     "execution_count": 22,
     "metadata": {},
     "output_type": "execute_result"
    }
   ],
   "source": [
    "# Объединим data_users и data_rides по полю 'user_id'\n",
    "data = pd.merge(data_users, data_rides, on='user_id', how='left')\n",
    "\n",
    "# Объединим data и data_subscription по полю 'subscription_type'\n",
    "data = pd.merge(data, data_subscriptions, on='subscription_type', how='left')\n",
    "\n",
    "# Выведем первые 5 строк получившегося датафрейма\n",
    "data.head()"
   ]
  },
  {
   "cell_type": "code",
   "execution_count": 23,
   "id": "fcb8880c-2eab-49df-b539-6a646f451316",
   "metadata": {},
   "outputs": [
    {
     "name": "stdout",
     "output_type": "stream",
     "text": [
      "<class 'pandas.core.frame.DataFrame'>\n",
      "Int64Index: 18068 entries, 0 to 18067\n",
      "Data columns (total 12 columns):\n",
      " #   Column             Non-Null Count  Dtype  \n",
      "---  ------             --------------  -----  \n",
      " 0   user_id            18068 non-null  int64  \n",
      " 1   name               18068 non-null  object \n",
      " 2   age                18068 non-null  int64  \n",
      " 3   city               18068 non-null  object \n",
      " 4   subscription_type  18068 non-null  object \n",
      " 5   distance           18068 non-null  float64\n",
      " 6   duration           18068 non-null  float64\n",
      " 7   date               18068 non-null  object \n",
      " 8   month              18068 non-null  int64  \n",
      " 9   minute_price       18068 non-null  int64  \n",
      " 10  start_ride_price   18068 non-null  int64  \n",
      " 11  subscription_fee   18068 non-null  int64  \n",
      "dtypes: float64(2), int64(6), object(4)\n",
      "memory usage: 1.8+ MB\n"
     ]
    }
   ],
   "source": [
    "data.info()"
   ]
  },
  {
   "cell_type": "markdown",
   "id": "e5bf29ad-17f2-434f-bd0e-db98ae6ba741",
   "metadata": {},
   "source": [
    "Данные объединены корректно"
   ]
  },
  {
   "cell_type": "markdown",
   "id": "c73221c9-b7f2-4d85-9dad-a94fed89f2f8",
   "metadata": {},
   "source": [
    "## Создадим датафреймы пользователей с подпиской и без"
   ]
  },
  {
   "cell_type": "code",
   "execution_count": 24,
   "id": "bcc44247-6ccc-44e2-8d33-253ccfb2d9c6",
   "metadata": {},
   "outputs": [
    {
     "data": {
      "text/html": [
       "<div>\n",
       "<style scoped>\n",
       "    .dataframe tbody tr th:only-of-type {\n",
       "        vertical-align: middle;\n",
       "    }\n",
       "\n",
       "    .dataframe tbody tr th {\n",
       "        vertical-align: top;\n",
       "    }\n",
       "\n",
       "    .dataframe thead th {\n",
       "        text-align: right;\n",
       "    }\n",
       "</style>\n",
       "<table border=\"1\" class=\"dataframe\">\n",
       "  <thead>\n",
       "    <tr style=\"text-align: right;\">\n",
       "      <th></th>\n",
       "      <th>user_id</th>\n",
       "      <th>name</th>\n",
       "      <th>age</th>\n",
       "      <th>city</th>\n",
       "      <th>subscription_type</th>\n",
       "      <th>distance</th>\n",
       "      <th>duration</th>\n",
       "      <th>date</th>\n",
       "      <th>month</th>\n",
       "      <th>minute_price</th>\n",
       "      <th>start_ride_price</th>\n",
       "      <th>subscription_fee</th>\n",
       "    </tr>\n",
       "  </thead>\n",
       "  <tbody>\n",
       "    <tr>\n",
       "      <th>0</th>\n",
       "      <td>1</td>\n",
       "      <td>Кира</td>\n",
       "      <td>22</td>\n",
       "      <td>Тюмень</td>\n",
       "      <td>ultra</td>\n",
       "      <td>4409.919140</td>\n",
       "      <td>25.599769</td>\n",
       "      <td>2021-01-01</td>\n",
       "      <td>1</td>\n",
       "      <td>6</td>\n",
       "      <td>0</td>\n",
       "      <td>199</td>\n",
       "    </tr>\n",
       "    <tr>\n",
       "      <th>1</th>\n",
       "      <td>1</td>\n",
       "      <td>Кира</td>\n",
       "      <td>22</td>\n",
       "      <td>Тюмень</td>\n",
       "      <td>ultra</td>\n",
       "      <td>2617.592153</td>\n",
       "      <td>15.816871</td>\n",
       "      <td>2021-01-18</td>\n",
       "      <td>1</td>\n",
       "      <td>6</td>\n",
       "      <td>0</td>\n",
       "      <td>199</td>\n",
       "    </tr>\n",
       "    <tr>\n",
       "      <th>2</th>\n",
       "      <td>1</td>\n",
       "      <td>Кира</td>\n",
       "      <td>22</td>\n",
       "      <td>Тюмень</td>\n",
       "      <td>ultra</td>\n",
       "      <td>754.159807</td>\n",
       "      <td>6.232113</td>\n",
       "      <td>2021-04-20</td>\n",
       "      <td>4</td>\n",
       "      <td>6</td>\n",
       "      <td>0</td>\n",
       "      <td>199</td>\n",
       "    </tr>\n",
       "    <tr>\n",
       "      <th>3</th>\n",
       "      <td>1</td>\n",
       "      <td>Кира</td>\n",
       "      <td>22</td>\n",
       "      <td>Тюмень</td>\n",
       "      <td>ultra</td>\n",
       "      <td>2694.783254</td>\n",
       "      <td>18.511000</td>\n",
       "      <td>2021-08-11</td>\n",
       "      <td>8</td>\n",
       "      <td>6</td>\n",
       "      <td>0</td>\n",
       "      <td>199</td>\n",
       "    </tr>\n",
       "    <tr>\n",
       "      <th>4</th>\n",
       "      <td>1</td>\n",
       "      <td>Кира</td>\n",
       "      <td>22</td>\n",
       "      <td>Тюмень</td>\n",
       "      <td>ultra</td>\n",
       "      <td>4028.687306</td>\n",
       "      <td>26.265803</td>\n",
       "      <td>2021-08-28</td>\n",
       "      <td>8</td>\n",
       "      <td>6</td>\n",
       "      <td>0</td>\n",
       "      <td>199</td>\n",
       "    </tr>\n",
       "  </tbody>\n",
       "</table>\n",
       "</div>"
      ],
      "text/plain": [
       "   user_id  name  age    city subscription_type     distance   duration  \\\n",
       "0        1  Кира   22  Тюмень             ultra  4409.919140  25.599769   \n",
       "1        1  Кира   22  Тюмень             ultra  2617.592153  15.816871   \n",
       "2        1  Кира   22  Тюмень             ultra   754.159807   6.232113   \n",
       "3        1  Кира   22  Тюмень             ultra  2694.783254  18.511000   \n",
       "4        1  Кира   22  Тюмень             ultra  4028.687306  26.265803   \n",
       "\n",
       "         date  month  minute_price  start_ride_price  subscription_fee  \n",
       "0  2021-01-01      1             6                 0               199  \n",
       "1  2021-01-18      1             6                 0               199  \n",
       "2  2021-04-20      4             6                 0               199  \n",
       "3  2021-08-11      8             6                 0               199  \n",
       "4  2021-08-28      8             6                 0               199  "
      ]
     },
     "metadata": {},
     "output_type": "display_data"
    },
    {
     "name": "stdout",
     "output_type": "stream",
     "text": [
      "<class 'pandas.core.frame.DataFrame'>\n",
      "Int64Index: 18068 entries, 0 to 18067\n",
      "Data columns (total 12 columns):\n",
      " #   Column             Non-Null Count  Dtype  \n",
      "---  ------             --------------  -----  \n",
      " 0   user_id            18068 non-null  int64  \n",
      " 1   name               18068 non-null  object \n",
      " 2   age                18068 non-null  int64  \n",
      " 3   city               18068 non-null  object \n",
      " 4   subscription_type  18068 non-null  object \n",
      " 5   distance           18068 non-null  float64\n",
      " 6   duration           18068 non-null  float64\n",
      " 7   date               18068 non-null  object \n",
      " 8   month              18068 non-null  int64  \n",
      " 9   minute_price       18068 non-null  int64  \n",
      " 10  start_ride_price   18068 non-null  int64  \n",
      " 11  subscription_fee   18068 non-null  int64  \n",
      "dtypes: float64(2), int64(6), object(4)\n",
      "memory usage: 1.8+ MB\n"
     ]
    },
    {
     "data": {
      "text/plain": [
       "None"
      ]
     },
     "metadata": {},
     "output_type": "display_data"
    },
    {
     "data": {
      "text/html": [
       "<div>\n",
       "<style scoped>\n",
       "    .dataframe tbody tr th:only-of-type {\n",
       "        vertical-align: middle;\n",
       "    }\n",
       "\n",
       "    .dataframe tbody tr th {\n",
       "        vertical-align: top;\n",
       "    }\n",
       "\n",
       "    .dataframe thead th {\n",
       "        text-align: right;\n",
       "    }\n",
       "</style>\n",
       "<table border=\"1\" class=\"dataframe\">\n",
       "  <thead>\n",
       "    <tr style=\"text-align: right;\">\n",
       "      <th></th>\n",
       "      <th>user_id</th>\n",
       "      <th>name</th>\n",
       "      <th>age</th>\n",
       "      <th>city</th>\n",
       "      <th>subscription_type</th>\n",
       "      <th>distance</th>\n",
       "      <th>duration</th>\n",
       "      <th>date</th>\n",
       "      <th>month</th>\n",
       "      <th>minute_price</th>\n",
       "      <th>start_ride_price</th>\n",
       "      <th>subscription_fee</th>\n",
       "    </tr>\n",
       "  </thead>\n",
       "  <tbody>\n",
       "    <tr>\n",
       "      <th>6328</th>\n",
       "      <td>700</td>\n",
       "      <td>Айдар</td>\n",
       "      <td>22</td>\n",
       "      <td>Омск</td>\n",
       "      <td>free</td>\n",
       "      <td>2515.690719</td>\n",
       "      <td>14.944286</td>\n",
       "      <td>2021-01-02</td>\n",
       "      <td>1</td>\n",
       "      <td>8</td>\n",
       "      <td>50</td>\n",
       "      <td>0</td>\n",
       "    </tr>\n",
       "    <tr>\n",
       "      <th>6329</th>\n",
       "      <td>700</td>\n",
       "      <td>Айдар</td>\n",
       "      <td>22</td>\n",
       "      <td>Омск</td>\n",
       "      <td>free</td>\n",
       "      <td>846.932642</td>\n",
       "      <td>16.234663</td>\n",
       "      <td>2021-02-01</td>\n",
       "      <td>2</td>\n",
       "      <td>8</td>\n",
       "      <td>50</td>\n",
       "      <td>0</td>\n",
       "    </tr>\n",
       "    <tr>\n",
       "      <th>6330</th>\n",
       "      <td>700</td>\n",
       "      <td>Айдар</td>\n",
       "      <td>22</td>\n",
       "      <td>Омск</td>\n",
       "      <td>free</td>\n",
       "      <td>4004.434142</td>\n",
       "      <td>20.016628</td>\n",
       "      <td>2021-02-04</td>\n",
       "      <td>2</td>\n",
       "      <td>8</td>\n",
       "      <td>50</td>\n",
       "      <td>0</td>\n",
       "    </tr>\n",
       "    <tr>\n",
       "      <th>6331</th>\n",
       "      <td>700</td>\n",
       "      <td>Айдар</td>\n",
       "      <td>22</td>\n",
       "      <td>Омск</td>\n",
       "      <td>free</td>\n",
       "      <td>1205.911290</td>\n",
       "      <td>9.782872</td>\n",
       "      <td>2021-02-10</td>\n",
       "      <td>2</td>\n",
       "      <td>8</td>\n",
       "      <td>50</td>\n",
       "      <td>0</td>\n",
       "    </tr>\n",
       "    <tr>\n",
       "      <th>6332</th>\n",
       "      <td>700</td>\n",
       "      <td>Айдар</td>\n",
       "      <td>22</td>\n",
       "      <td>Омск</td>\n",
       "      <td>free</td>\n",
       "      <td>3047.379435</td>\n",
       "      <td>17.427673</td>\n",
       "      <td>2021-02-14</td>\n",
       "      <td>2</td>\n",
       "      <td>8</td>\n",
       "      <td>50</td>\n",
       "      <td>0</td>\n",
       "    </tr>\n",
       "  </tbody>\n",
       "</table>\n",
       "</div>"
      ],
      "text/plain": [
       "      user_id   name  age  city subscription_type     distance   duration  \\\n",
       "6328      700  Айдар   22  Омск              free  2515.690719  14.944286   \n",
       "6329      700  Айдар   22  Омск              free   846.932642  16.234663   \n",
       "6330      700  Айдар   22  Омск              free  4004.434142  20.016628   \n",
       "6331      700  Айдар   22  Омск              free  1205.911290   9.782872   \n",
       "6332      700  Айдар   22  Омск              free  3047.379435  17.427673   \n",
       "\n",
       "            date  month  minute_price  start_ride_price  subscription_fee  \n",
       "6328  2021-01-02      1             8                50                 0  \n",
       "6329  2021-02-01      2             8                50                 0  \n",
       "6330  2021-02-04      2             8                50                 0  \n",
       "6331  2021-02-10      2             8                50                 0  \n",
       "6332  2021-02-14      2             8                50                 0  "
      ]
     },
     "metadata": {},
     "output_type": "display_data"
    },
    {
     "name": "stdout",
     "output_type": "stream",
     "text": [
      "<class 'pandas.core.frame.DataFrame'>\n",
      "Int64Index: 18068 entries, 0 to 18067\n",
      "Data columns (total 12 columns):\n",
      " #   Column             Non-Null Count  Dtype  \n",
      "---  ------             --------------  -----  \n",
      " 0   user_id            18068 non-null  int64  \n",
      " 1   name               18068 non-null  object \n",
      " 2   age                18068 non-null  int64  \n",
      " 3   city               18068 non-null  object \n",
      " 4   subscription_type  18068 non-null  object \n",
      " 5   distance           18068 non-null  float64\n",
      " 6   duration           18068 non-null  float64\n",
      " 7   date               18068 non-null  object \n",
      " 8   month              18068 non-null  int64  \n",
      " 9   minute_price       18068 non-null  int64  \n",
      " 10  start_ride_price   18068 non-null  int64  \n",
      " 11  subscription_fee   18068 non-null  int64  \n",
      "dtypes: float64(2), int64(6), object(4)\n",
      "memory usage: 1.8+ MB\n"
     ]
    },
    {
     "data": {
      "text/plain": [
       "None"
      ]
     },
     "metadata": {},
     "output_type": "display_data"
    }
   ],
   "source": [
    "# Пользователи с подпиской\n",
    "data_subs = data[data['subscription_type'] == 'ultra']\n",
    "\n",
    "# Пользователи без подписки\n",
    "data_no_subs = data[data['subscription_type'] == 'free']\n",
    "\n",
    "# Выведем первые 5 строк обоих датафреймов\n",
    "display(data_subs.head())\n",
    "display(data.info())\n",
    "display(data_no_subs.head())\n",
    "display(data.info())"
   ]
  },
  {
   "cell_type": "markdown",
   "id": "18eca3fd-b5f1-4392-97ad-7bce2ca9fd55",
   "metadata": {},
   "source": [
    "## График распределения расстояний поездок по подпискам"
   ]
  },
  {
   "cell_type": "code",
   "execution_count": 25,
   "id": "83129160-0255-462d-9e87-6468621d961d",
   "metadata": {},
   "outputs": [
    {
     "data": {
      "image/png": "[encoded data removed]",
      "text/plain": [
       "<Figure size 720x360 with 1 Axes>"
      ]
     },
     "metadata": {},
     "output_type": "display_data"
    }
   ],
   "source": [
    "# Настройки графиков\n",
    "plt.figure(figsize=(10, 5))\n",
    "sns.histplot(data[data['subscription_type'] == 'free']['distance'], bins=50, kde=True, label='Без подписки', color='blue', alpha=0.6)\n",
    "sns.histplot(data[data['subscription_type'] == 'ultra']['distance'], bins=50, kde=True, label='С подпиской', color='red', alpha=0.6)\n",
    "plt.xlabel('Расстояние поездки (м)')\n",
    "plt.ylabel('Количество поездок')\n",
    "\n",
    "# Заголовок\n",
    "plt.title('Распределение расстояний поездок по подпискам')\n",
    "\n",
    "# Легенда\n",
    "plt.legend()\n",
    "\n",
    "# Показываем график\n",
    "plt.show()"
   ]
  },
  {
   "cell_type": "markdown",
   "id": "89839a97-2226-4575-a1f5-532100a15910",
   "metadata": {},
   "source": [
    "Пользователи с подпиской в основном преодолнвают расстояния в диапазоне от 2-х до 5 км. Для пользователей без подписки диапазон шире и количество поездок значительно больше. Также заметно, что ими выполняется больше коротких поездок (до 1.5 км) и поездки свыше 5 км выполняются преимущественно эти пользователи. "
   ]
  },
  {
   "cell_type": "markdown",
   "id": "67b40966-0dd0-4455-a8bd-f13f285771f4",
   "metadata": {},
   "source": [
    "## График распределения времени поездок по подпискам"
   ]
  },
  {
   "cell_type": "code",
   "execution_count": 26,
   "id": "a12beaa3-7bc7-4537-9a90-64aa4dbaa081",
   "metadata": {},
   "outputs": [
    {
     "data": {
      "image/png": "[encoded data removed]",
      "text/plain": [
       "<Figure size 720x360 with 1 Axes>"
      ]
     },
     "metadata": {},
     "output_type": "display_data"
    }
   ],
   "source": [
    "# Настройки для графиков\n",
    "plt.figure(figsize=(10, 5))\n",
    "sns.histplot(data[data['subscription_type'] == 'free']['duration'], bins=50, kde=True, label='Без подписки', color='blue', alpha=0.6)\n",
    "sns.histplot(data[data['subscription_type'] == 'ultra']['duration'], bins=50, kde=True, label='С подпиской', color='red', alpha=0.6)\n",
    "plt.xlabel('Продолжительность поездки (минуты)')\n",
    "plt.ylabel('Количество поездок')\n",
    "\n",
    "# Заголовок\n",
    "plt.title('Распределение времени поездок по подпискам')\n",
    "\n",
    "# Легенда\n",
    "plt.legend()\n",
    "\n",
    "# Показываем график\n",
    "plt.show()"
   ]
  },
  {
   "cell_type": "markdown",
   "id": "d7c2f150-c277-4abe-9ad7-689f6816ae6b",
   "metadata": {},
   "source": [
    "Пользователи без подписки совершают большее количество поездок. Пользователи с подпиской реже совершают поездки продолжительностью менее 10 минут. Подписка снижает стоимость длительных поездок."
   ]
  },
  {
   "cell_type": "markdown",
   "id": "e3593023-8c45-4088-8c57-2b0946953786",
   "metadata": {},
   "source": [
    "## Промежуточный вывод\n",
    "\n",
    "На данном этапе мы объединили датафреймы data_users, data_rides и data_subscription в один и создали 2 дополнительных.\n",
    "\n",
    "`data_subs` - Пользователи с подпиской\n",
    "\n",
    "`data_no_subs` - Пользователи без подписки\n",
    "\n",
    "Изучив графики распределения времени и расстояния для каждой категории пользователей мы выяснили:\n",
    "- Пользователи без подписки чаще совершают короткие поездки в отличие от пользователей с подпиской\n",
    "- Пользователи без подписки чаще совершают длинные поездки (свыше 5 км)\n",
    "- Пользователи с подпиской в основном преодолнвают расстояния в диапазоне от 2-х до 5 км (Возможно, что у них есть заранее запланированный маршрут и они чаще используют сервис для того, чтобы добраться из дома до работы и наоборот)\n",
    "- Пользователи с подпиской реже совершают поездки продолжительностью менее 10 минут"
   ]
  },
  {
   "cell_type": "markdown",
   "id": "402d620f",
   "metadata": {},
   "source": [
    "# Подсчёт выручки"
   ]
  },
  {
   "cell_type": "markdown",
   "id": "d2cd1e80-91b9-48d7-8aa0-754304f46a97",
   "metadata": {},
   "source": [
    "## Создадим датафрейм с агрегированными данными о поездках для каждого пользователя за каждый месяц."
   ]
  },
  {
   "cell_type": "code",
   "execution_count": 27,
   "id": "6887b8e9-de42-4b55-9879-502978c9a782",
   "metadata": {},
   "outputs": [
    {
     "data": {
      "text/html": [
       "<div>\n",
       "<style scoped>\n",
       "    .dataframe tbody tr th:only-of-type {\n",
       "        vertical-align: middle;\n",
       "    }\n",
       "\n",
       "    .dataframe tbody tr th {\n",
       "        vertical-align: top;\n",
       "    }\n",
       "\n",
       "    .dataframe thead th {\n",
       "        text-align: right;\n",
       "    }\n",
       "</style>\n",
       "<table border=\"1\" class=\"dataframe\">\n",
       "  <thead>\n",
       "    <tr style=\"text-align: right;\">\n",
       "      <th></th>\n",
       "      <th>user_id</th>\n",
       "      <th>month</th>\n",
       "      <th>total_distance</th>\n",
       "      <th>total_rides</th>\n",
       "      <th>total_duration</th>\n",
       "    </tr>\n",
       "  </thead>\n",
       "  <tbody>\n",
       "    <tr>\n",
       "      <th>0</th>\n",
       "      <td>1</td>\n",
       "      <td>1</td>\n",
       "      <td>7027.511294</td>\n",
       "      <td>2</td>\n",
       "      <td>42.0</td>\n",
       "    </tr>\n",
       "    <tr>\n",
       "      <th>1</th>\n",
       "      <td>1</td>\n",
       "      <td>4</td>\n",
       "      <td>754.159807</td>\n",
       "      <td>1</td>\n",
       "      <td>7.0</td>\n",
       "    </tr>\n",
       "    <tr>\n",
       "      <th>2</th>\n",
       "      <td>1</td>\n",
       "      <td>8</td>\n",
       "      <td>6723.470560</td>\n",
       "      <td>2</td>\n",
       "      <td>46.0</td>\n",
       "    </tr>\n",
       "    <tr>\n",
       "      <th>3</th>\n",
       "      <td>1</td>\n",
       "      <td>10</td>\n",
       "      <td>5809.911100</td>\n",
       "      <td>2</td>\n",
       "      <td>32.0</td>\n",
       "    </tr>\n",
       "    <tr>\n",
       "      <th>4</th>\n",
       "      <td>1</td>\n",
       "      <td>11</td>\n",
       "      <td>7003.499363</td>\n",
       "      <td>3</td>\n",
       "      <td>56.0</td>\n",
       "    </tr>\n",
       "  </tbody>\n",
       "</table>\n",
       "</div>"
      ],
      "text/plain": [
       "   user_id  month  total_distance  total_rides  total_duration\n",
       "0        1      1     7027.511294            2            42.0\n",
       "1        1      4      754.159807            1             7.0\n",
       "2        1      8     6723.470560            2            46.0\n",
       "3        1     10     5809.911100            2            32.0\n",
       "4        1     11     7003.499363            3            56.0"
      ]
     },
     "execution_count": 27,
     "metadata": {},
     "output_type": "execute_result"
    }
   ],
   "source": [
    "# Округляем продолжительность поездки вверх\n",
    "data['duration'] = np.ceil(data['duration'])\n",
    "\n",
    "# Группируем данные по пользователям и месяцу\n",
    "aggregated_data = data.groupby(['user_id', 'month'], as_index=False).agg(\n",
    "    total_distance=('distance', 'sum'),     \n",
    "    total_rides=('user_id', 'count'),       \n",
    "    total_duration=('duration', 'sum')  \n",
    ")\n",
    "\n",
    "# Выводим первые 5 строк\n",
    "aggregated_data.head()"
   ]
  },
  {
   "cell_type": "markdown",
   "id": "5be4f42e-8cb7-4479-a788-a072b95456eb",
   "metadata": {},
   "source": [
    "## Добавим столбец с помесячной выручкой, которую принёс каждый пользователь."
   ]
  },
  {
   "cell_type": "code",
   "execution_count": 28,
   "id": "390846af-1e2a-461f-a432-dbf1ff141539",
   "metadata": {},
   "outputs": [
    {
     "data": {
      "text/html": [
       "<div>\n",
       "<style scoped>\n",
       "    .dataframe tbody tr th:only-of-type {\n",
       "        vertical-align: middle;\n",
       "    }\n",
       "\n",
       "    .dataframe tbody tr th {\n",
       "        vertical-align: top;\n",
       "    }\n",
       "\n",
       "    .dataframe thead th {\n",
       "        text-align: right;\n",
       "    }\n",
       "</style>\n",
       "<table border=\"1\" class=\"dataframe\">\n",
       "  <thead>\n",
       "    <tr style=\"text-align: right;\">\n",
       "      <th></th>\n",
       "      <th>user_id</th>\n",
       "      <th>month</th>\n",
       "      <th>total_distance</th>\n",
       "      <th>total_rides</th>\n",
       "      <th>total_duration</th>\n",
       "      <th>subscription_type</th>\n",
       "      <th>revenue</th>\n",
       "    </tr>\n",
       "  </thead>\n",
       "  <tbody>\n",
       "    <tr>\n",
       "      <th>0</th>\n",
       "      <td>1</td>\n",
       "      <td>1</td>\n",
       "      <td>7027.511294</td>\n",
       "      <td>2</td>\n",
       "      <td>42.0</td>\n",
       "      <td>ultra</td>\n",
       "      <td>451.0</td>\n",
       "    </tr>\n",
       "    <tr>\n",
       "      <th>1</th>\n",
       "      <td>1</td>\n",
       "      <td>4</td>\n",
       "      <td>754.159807</td>\n",
       "      <td>1</td>\n",
       "      <td>7.0</td>\n",
       "      <td>ultra</td>\n",
       "      <td>241.0</td>\n",
       "    </tr>\n",
       "    <tr>\n",
       "      <th>2</th>\n",
       "      <td>1</td>\n",
       "      <td>8</td>\n",
       "      <td>6723.470560</td>\n",
       "      <td>2</td>\n",
       "      <td>46.0</td>\n",
       "      <td>ultra</td>\n",
       "      <td>475.0</td>\n",
       "    </tr>\n",
       "    <tr>\n",
       "      <th>3</th>\n",
       "      <td>1</td>\n",
       "      <td>10</td>\n",
       "      <td>5809.911100</td>\n",
       "      <td>2</td>\n",
       "      <td>32.0</td>\n",
       "      <td>ultra</td>\n",
       "      <td>391.0</td>\n",
       "    </tr>\n",
       "    <tr>\n",
       "      <th>4</th>\n",
       "      <td>1</td>\n",
       "      <td>11</td>\n",
       "      <td>7003.499363</td>\n",
       "      <td>3</td>\n",
       "      <td>56.0</td>\n",
       "      <td>ultra</td>\n",
       "      <td>535.0</td>\n",
       "    </tr>\n",
       "  </tbody>\n",
       "</table>\n",
       "</div>"
      ],
      "text/plain": [
       "   user_id  month  total_distance  total_rides  total_duration  \\\n",
       "0        1      1     7027.511294            2            42.0   \n",
       "1        1      4      754.159807            1             7.0   \n",
       "2        1      8     6723.470560            2            46.0   \n",
       "3        1     10     5809.911100            2            32.0   \n",
       "4        1     11     7003.499363            3            56.0   \n",
       "\n",
       "  subscription_type  revenue  \n",
       "0             ultra    451.0  \n",
       "1             ultra    241.0  \n",
       "2             ultra    475.0  \n",
       "3             ultra    391.0  \n",
       "4             ultra    535.0  "
      ]
     },
     "execution_count": 28,
     "metadata": {},
     "output_type": "execute_result"
    }
   ],
   "source": [
    "# Добавляем информацию о подписке пользователей\n",
    "aggregated_data = aggregated_data.merge(data[['user_id', 'subscription_type']], on='user_id', how='left').drop_duplicates()\n",
    "\n",
    "# Добавляем данные о тарифах\n",
    "aggregated_data = aggregated_data.merge(data_subscriptions, on='subscription_type', how='left')\n",
    "\n",
    "# Рассчитываем выручку \n",
    "aggregated_data['revenue'] = (\n",
    "    aggregated_data['start_ride_price'] * aggregated_data['total_rides'] +  \n",
    "    aggregated_data['minute_price'] * aggregated_data['total_duration'] +  \n",
    "    aggregated_data['subscription_fee']  \n",
    ")\n",
    "\n",
    "# Оставляем только нужные столбцы\n",
    "aggregated_data = aggregated_data[['user_id', 'month', 'total_distance', 'total_rides', 'total_duration','subscription_type', 'revenue']]\n",
    "\n",
    "# Выводим первые 5 строк\n",
    "aggregated_data.head()"
   ]
  },
  {
   "cell_type": "markdown",
   "id": "bc77082f-7089-431b-89ae-a0f7641fe28a",
   "metadata": {},
   "source": [
    "## Промежуточный вывод\n",
    "\n",
    "На данном этапе мы создали датафрейм с агрегированными данными о поездках на основе датафрейма с объединёнными данными и добавили столбец с помесячной выручкой, которую принёс каждый пользователь."
   ]
  },
  {
   "cell_type": "markdown",
   "id": "41545ac0",
   "metadata": {},
   "source": [
    "# Проверка гипотез"
   ]
  },
  {
   "cell_type": "markdown",
   "id": "ccff46d1-9649-45ce-9796-10127738cdef",
   "metadata": {},
   "source": [
    "## Гипотеза 1. H0 - пользователи с подпиской и без тратят одинаковое время на поездки. H1 - пользователи с подпиской тратят больше времени на поездки"
   ]
  },
  {
   "cell_type": "code",
   "execution_count": 29,
   "id": "23ea867b",
   "metadata": {},
   "outputs": [
    {
     "name": "stdout",
     "output_type": "stream",
     "text": [
      "Среднее время поездки пользователей с подпиской: 18.54198516280583\n",
      "Среднее время поездки пользователей без подписки: 17.39090929866399\n",
      "p-значение: 1.2804098316645618e-34\n",
      "Отвергаем нулевую гипотезу\n"
     ]
    }
   ],
   "source": [
    "# Собираем выборки \n",
    "ultra = data_subs['duration']\n",
    "free = data_no_subs['duration']\n",
    "\n",
    "print(f'Среднее время поездки пользователей с подпиской: {np.mean(ultra)}')\n",
    "print(f'Среднее время поездки пользователей без подписки: {np.mean(free)}')\n",
    "\n",
    "# Указываем уровень значимости\n",
    "alpha = 0.05\n",
    "\n",
    "# Проводим тест\n",
    "results = st.ttest_ind(ultra, free, alternative='greater')\n",
    "\n",
    "print(f'p-значение: {results.pvalue}')\n",
    "\n",
    "# Выводим результат\n",
    "if results.pvalue < alpha:\n",
    "    print('Отвергаем нулевую гипотезу')\n",
    "else:\n",
    "    print('Не получилось отвергнуть нулевую гипотезу')"
   ]
  },
  {
   "cell_type": "markdown",
   "id": "e8d6ffaa-9556-4478-a071-bc306dc30eb7",
   "metadata": {},
   "source": [
    "Проверив одностороннюю гипотезу: о том, что среднее время поездки пользователей с подпиской выше среднего времени поездки пользователей без подписки мы отвергли нулевую гипотезу при уровне статистической значимости,\n",
    "равном 5%. "
   ]
  },
  {
   "cell_type": "markdown",
   "id": "293b7351-a095-4601-aeb9-b427c13e74be",
   "metadata": {},
   "source": [
    "## Гипотеза 2. H0 - среднее расстояние, которое проезжают пользователи с подпиской за одну поездку равно 3130 м. H1 - среднее расстояние, которое проезжают пользователи с подпиской за одну поездку более 3130 м."
   ]
  },
  {
   "cell_type": "code",
   "execution_count": 30,
   "id": "de01a4f6-3ca4-44ae-81e1-837dccaad547",
   "metadata": {},
   "outputs": [
    {
     "name": "stdout",
     "output_type": "stream",
     "text": [
      "Среднее расстояние пользователей с подпиской: 3115.4453880370247\n",
      "p-значение: 0.9195368847849785\n",
      "Не получилось отвергнуть нулевую гипотезу\n"
     ]
    }
   ],
   "source": [
    "# Собираем выборку\n",
    "ultra = data_subs['distance']\n",
    "\n",
    "# Вывод среднего расстояния\n",
    "print(f'Среднее расстояние пользователей с подпиской: {np.mean(ultra)}')\n",
    "\n",
    "# Оптимальное значение\n",
    "value = 3130\n",
    "\n",
    "# Ууказываем уровень статистической значимости\n",
    "alpha = 0.05\n",
    "\n",
    "# Проводим тест \n",
    "results = st.ttest_1samp(ultra, value, alternative='greater')\n",
    "\n",
    "# Вывод р-значения\n",
    "print(f'p-значение: {results.pvalue}')\n",
    "\n",
    "# Выводим результат\n",
    "if results.pvalue < alpha:\n",
    "    print('Отвергаем нулевую гипотезу')\n",
    "else:\n",
    "    print('Не получилось отвергнуть нулевую гипотезу')"
   ]
  },
  {
   "cell_type": "markdown",
   "id": "2011f1bd-825b-4929-8397-8b46f47ee346",
   "metadata": {},
   "source": [
    "Среднее ГС равно 3115, что меньше предположенного в нулевой гипотезе значения, но разница не является статистически значимой на уровне 5%. Это значит, что нет достаточных оснований утверждать, что пользователи с подпиской проезжают меньше 3130 м за поездку."
   ]
  },
  {
   "cell_type": "markdown",
   "id": "5a724303-6c6b-49bb-b235-516e24b72e1f",
   "metadata": {},
   "source": [
    "## Гипотеза 3. Н0 - помесячная выручка от пользователей с подпиской и без по месяцам равна. Н1 - помесячная выручка от пользователей с подпиской по месяцам выше, чем выручка от пользователей без подписки. "
   ]
  },
  {
   "cell_type": "code",
   "execution_count": 31,
   "id": "f2fc9c2a-08db-4ba7-8955-7b5f9742b9fe",
   "metadata": {},
   "outputs": [
    {
     "name": "stdout",
     "output_type": "stream",
     "text": [
      "Средняя выручка от пользователей с подпиской: 362.7921906022502\n",
      "Средняя выручка от пользователей без подписки: 328.6413651073845\n",
      "p-значение: 1.8850394384715216e-31\n",
      "Отвергаем нулевую гипотезу\n"
     ]
    }
   ],
   "source": [
    "# Собираем выборки\n",
    "ultra = aggregated_data[aggregated_data['subscription_type'] == 'ultra']['revenue']\n",
    "free = aggregated_data[aggregated_data['subscription_type'] == 'free']['revenue']\n",
    "\n",
    "# Вывод средней выручки\n",
    "print(f'Средняя выручка от пользователей с подпиской: {np.mean(ultra)}')\n",
    "print(f'Средняя выручка от пользователей без подписки: {np.mean(free)}')\n",
    "\n",
    "# Ууказываем уровень статистической значимости\n",
    "alpha = 0.05\n",
    "\n",
    "# Проводим тест\n",
    "results = st.ttest_ind(ultra, free, alternative='greater')\n",
    "\n",
    "print(f'p-значение: {results.pvalue}')\n",
    "\n",
    "# Выводим результат\n",
    "if results.pvalue < alpha:\n",
    "    print('Отвергаем нулевую гипотезу')\n",
    "else:\n",
    "    print('Не получилось отвергнуть нулевую гипотезу')"
   ]
  },
  {
   "cell_type": "markdown",
   "id": "0b39930c-90e8-4100-8c42-348b404a926f",
   "metadata": {},
   "source": [
    "Проверив одностороннюю гипотезу: о том, что средняя выручка от пользователей с подпиской выше средней выручки от пользователей без подписки мы отвергли нулевую гипотезу при уровне статистической значимости, равном 5%."
   ]
  },
  {
   "cell_type": "markdown",
   "id": "b6b35673-15e5-4832-b498-8471c85a7f33",
   "metadata": {},
   "source": [
    "## Гипотеза 4. Н0 - Количество обращений до и после обновления не отличается. Н1 - Количество обращений после обновления снизилось по сравнению с количеством обращений до обновления.\n",
    "\n",
    "Для проверки этой гипотезы нам понадобится t-тест для зависимых выборок. Данные до и после обновления для каждого пользователя, т.е. пары значений, которые связаны между собой (например, количество обращений до обновления и после для одного и того же пользователя). Это означает, что мы работаем с зависимыми выборками."
   ]
  },
  {
   "cell_type": "markdown",
   "id": "7c9a53f5-b2c4-4dd2-9104-f59cd79ce558",
   "metadata": {},
   "source": [
    "## Промежуточный вывод.\n",
    "\n",
    "На данном этапе мы проверили гипотезы:\n",
    "\n",
    "- Тратят ли пользователи с подпиской больше времени на поездки?\n",
    "- Среднее расстояние, которое проезжают пользователи с подпиской за одну поездку, не превышает 3130 метров?\n",
    "- Будет ли помесячная выручка от пользователей с подпиской по месяцам выше, чем выручка от пользователей без подписки.\n",
    "- Количество обращений в техподдержку значимо снизилось\n",
    "\n",
    "Проверив одностороннюю гипотезу: о том, что среднее время поездки пользователей с подпиской выше среднего времени поездки пользователей без подписки мы отвергли нулевую гипотезу при уровне статистической значимости, равном 5%.\n",
    "\n",
    "Среднее ГС равно 3115, что меньше предположенного в нулевой гипотезе значения, но разница не является статистически значимой на уровне 5%. Это значит, что нет достаточных оснований утверждать, что пользователи с подпиской проезжают меньше 3130 м за поездку.\n",
    "\n",
    "Проверив одностороннюю гипотезу: о том, что средняя выручка от пользователей с подпиской выше средней выручки от пользователей без подписки мы отвергли нулевую гипотезу при уровне статистической значимости, равном 5%.\n",
    "\n",
    "Для проверки этой гипотезы (Количество обращений в техподдержку значимо снизилось) нам понадобится t-тест для зависимых выборок. Данные до и после обновления для каждого пользователя, т.е. пары значений, которые связаны между собой (например, количество обращений до обновления и после для одного и того же пользователя). Это означает, что мы работаем с зависимыми выборками."
   ]
  },
  {
   "cell_type": "markdown",
   "id": "61213c5e",
   "metadata": {},
   "source": [
    "# Распределения"
   ]
  },
  {
   "cell_type": "markdown",
   "id": "5bfc0558-f591-49ae-b87a-6e44735ff60c",
   "metadata": {},
   "source": [
    "## Какое минимальное количество промокодов нужно разослать, чтобы вероятность не выполнить план была примерно 5 %?\n",
    "\n",
    "Нужно провести акцию с раздачей промокодов на один бесплатный месяц подписки, в рамках которой как минимум 100 существующих клиентов должны продлить эту подписку. После бесплатного пробного периода подписку продлевают 10 % пользователей."
   ]
  },
  {
   "cell_type": "code",
   "execution_count": 32,
   "id": "726d223b-4240-4c2f-a77d-7fd0714d84b3",
   "metadata": {},
   "outputs": [
    {
     "name": "stdout",
     "output_type": "stream",
     "text": [
      "Минимальное количество промокодов, чтобы вероятность не выполнить план была ≤ 5%: 1161\n"
     ]
    },
    {
     "data": {
      "image/png": "[encoded data removed]",
      "text/plain": [
       "<Figure size 720x360 with 1 Axes>"
      ]
     },
     "metadata": {},
     "output_type": "display_data"
    }
   ],
   "source": [
    "# Вероятность продления подписки\n",
    "p = 0.1\n",
    "\n",
    "# Минимальное количество продливших подписку\n",
    "target = 100\n",
    "\n",
    "# Подбираем минимальное N\n",
    "N = np.arange(1000, 2000, 1)  \n",
    "probabilities = [st.binom.cdf(target - 1, n, p) for n in N]  \n",
    "\n",
    "# Находим минимальное n\n",
    "n = N[np.where(np.array(probabilities) <= 0.05)[0][0]]\n",
    "\n",
    "print(f'Минимальное количество промокодов, чтобы вероятность не выполнить план была ≤ 5%: {n}')\n",
    "\n",
    "# Настройки графика\n",
    "plt.figure(figsize=(10, 5))\n",
    "plt.plot(N, probabilities, label=\"P(X < 100)\")\n",
    "plt.axhline(0.05, color='r', linestyle='--', label=\"5% порог\")\n",
    "plt.axvline(n, color='g', linestyle='--', label=f\"n = {n}\")\n",
    "plt.xlabel(\"Количество разосланных промокодов (N)\")\n",
    "plt.ylabel(\"P(X < 100)\")\n",
    "plt.title(\"Подбор минимального N\")\n",
    "plt.legend()\n",
    "plt.grid()\n",
    "\n",
    "# Показываем график\n",
    "plt.show()"
   ]
  },
  {
   "cell_type": "markdown",
   "id": "b137d9cf-f0c9-4cb9-895f-fd7e0c7f71ca",
   "metadata": {},
   "source": [
    "Используя биномиальное распределение, которое описывает указанную ситуацию, мы выяснили, что минимальное количество промокодов, которые нужно разослать, чтобы вероятность не выполнить план была меньше или равна 5%, составляет 1161."
   ]
  },
  {
   "cell_type": "markdown",
   "id": "28d44cdf-c99e-4d19-8143-03dbb782b905",
   "metadata": {},
   "source": [
    "## С помощью аппроксимации построим примерный график распределения и оценим вероятность того, что уведомление откроют не более 399,5 тыс. пользователей.\n",
    "\n",
    "Отдел маркетинга рассылает клиентам push-уведомления в мобильном приложении. Клиенты могут открыть его или не открывать. Известно, что уведомления открывают около 40 % получивших клиентов. Отдел планирует разослать 1 млн уведомлений."
   ]
  },
  {
   "cell_type": "code",
   "execution_count": 33,
   "id": "7bfe0d40-6e7e-4d9e-b7f1-c9f263c1de57",
   "metadata": {},
   "outputs": [
    {
     "name": "stdout",
     "output_type": "stream",
     "text": [
      "P(X ≤ 399500) = 0.1537\n"
     ]
    },
    {
     "data": {
      "image/png": "[encoded data removed]",
      "text/plain": [
       "<Figure size 720x360 with 1 Axes>"
      ]
     },
     "metadata": {},
     "output_type": "display_data"
    }
   ],
   "source": [
    "# Количество уведомлений\n",
    "n = 1000000  \n",
    "\n",
    "# Вероятность открытия\n",
    "p = 0.4  \n",
    "\n",
    "# Мат. ожидание\n",
    "mu = n * p  \n",
    "\n",
    "# Стандартное отклонение\n",
    "sigma = np.sqrt(n * p * (1 - p))  \n",
    "\n",
    "# Проверяемое значение\n",
    "x_value = 399500\n",
    "\n",
    "# Вычисляем вероятность\n",
    "prob = st.norm.cdf(x_value, loc=mu, scale=sigma)\n",
    "\n",
    "print(f'P(X ≤ 399500) = {prob:.4f}')\n",
    "\n",
    "# Визуализация нормального распределения\n",
    "x = np.linspace(mu - 4 * sigma, mu + 4 * sigma, 1000)\n",
    "y = st.norm.pdf(x, loc=mu, scale=sigma)\n",
    "\n",
    "# Настройка графика\n",
    "plt.figure(figsize=(10, 5))\n",
    "plt.plot(x, y, label=\"Нормальное приближение Bin(n, p)\", color='b')\n",
    "plt.fill_between(x, y, where=(x <= x_value), color='blue', alpha=0.3, label=f\"P(X ≤ 399500) ≈ {prob:.4f}\")\n",
    "plt.axvline(x_value, color='r', linestyle=\"--\", label=\"399500\")\n",
    "plt.axvline(mu, color='g', linestyle=\"--\", label=\"Среднее (400000)\")\n",
    "plt.xlabel(\"Число открытых уведомлений\")\n",
    "plt.ylabel(\"Плотность вероятности\")\n",
    "plt.title(\"Аппроксимация биномиального распределения нормальным\")\n",
    "plt.legend()\n",
    "plt.grid()\n",
    "\n",
    "# Показываем график\n",
    "plt.show()"
   ]
  },
  {
   "cell_type": "markdown",
   "id": "5453a363-507a-490f-8f50-df66388723b1",
   "metadata": {},
   "source": [
    "С помощью нормальной аппроксимации биномиального распределения мы выяснили, что вероятность того, что уведомление откроют не более 399,5 тыс. пользователей составляет, примерно, 15%."
   ]
  },
  {
   "cell_type": "markdown",
   "id": "34de46db-42e7-47e6-a762-549c168d1ff5",
   "metadata": {},
   "source": [
    "## Промежуточный вывод\n",
    "\n",
    "На данном этапе мы рассчитали, что для выполнения маркетингового плана (чтобы минимум 100 клиентов продлили подписку) с вероятностью не менее 95% необходимо разослать 1161 промокод. При рассылке 1 млн уведомлений, вероятность того, что их откроют не более 399 500 пользователей, составляет примерно 15%."
   ]
  },
  {
   "cell_type": "markdown",
   "id": "7a87c7dc-d95b-4fb2-9aa1-8866b6471cd6",
   "metadata": {},
   "source": [
    "# Общий вывод\n",
    "\n",
    "1. Предобработка данных\n",
    "\n",
    "Мы проанализировали и обработали данные трех датасетов:\n",
    "\n",
    " • users_go (пользователи),\n",
    " • rides_go (поездки),\n",
    " • subscriptions_go (подписки).\n",
    "\n",
    "Основные действия:\n",
    "\n",
    " • Преобразовали столбец date в rides_go в формат datetime.\n",
    " • Добавили новый столбец с номером месяца.\n",
    " • Проверили дубликаты: в data_users удалили 31 дубликат в user_id, а в data_rides и data_subscriptions дубликаты отсутствовали.\n",
    "\n",
    "2. Исследовательский анализ данных\n",
    "\n",
    " • География пользователей:\n",
    " • Пятигорск — лидер по количеству пользователей.\n",
    " • Москва занимает последнее место среди городов, вероятно из-за высокой конкуренции.\n",
    " • Южные города (Ростов-на-Дону, Краснодар, Сочи) имеют высокий спрос, что может объясняться туристическим потоком.\n",
    " • Профиль пользователей:\n",
    " • Средний возраст — 25 лет.\n",
    " • Большинство пользователей — от 20 до 30 лет.\n",
    " • Количество пользователей с подпиской и без подписки практически одинаково.\n",
    " • Анализ поездок:\n",
    " • Среднее расстояние поездки — примерно 3 км.\n",
    " • Большая часть поездок — от 2 до 5 км.\n",
    " • Средняя продолжительность поездки — 10–25 минут.\n",
    "\n",
    "3. Анализ поведения пользователей с подпиской и без\n",
    "\n",
    " • Пользователи без подписки чаще совершают короткие поездки.\n",
    " • Пользователи с подпиской чаще преодолевают фиксированные расстояния (2–5 км), вероятно, для регулярных поездок (например, дом-работа).\n",
    " • Долгие поездки (более 5 км) чаще совершают пользователи без подписки.\n",
    " • Пользователи с подпиской реже совершают поездки менее 10 минут.\n",
    "\n",
    "4. Проверка гипотез\n",
    "\n",
    "✅ Пользователи с подпиской проводят в поездках больше времени - подтверждено (нулевая гипотеза отвергнута).\n",
    "\n",
    "✅ Среднее расстояние поездки пользователей с подпиской > 3130 м - не подтверждено (разница незначима).\n",
    "\n",
    "✅ Выручка от пользователей с подпиской выше - подтверждено.\n",
    "\n",
    "✅ Количество обращений в техподдержку снизилось - требуется t-тест для зависимых выборок.\n",
    "\n",
    "5. Маркетинговые рекомендации\n",
    "\n",
    " • Для выполнения плана по продлению подписки необходимо разослать 1161 промокод (чтобы минимум 100 клиентов продлили подписку с вероятностью ≥95%).\n",
    " • 15% вероятность, что push-уведомления откроют ≤399 500 пользователей (из 1 млн).\n",
    "\n",
    "Выводы и рекомендации\n",
    "\n",
    " • Подписка увеличивает среднее время поездки - выгодно для компании.\n",
    " • Подписчики приносят больше выручки в среднем.\n",
    " • Есть смысл предлагать подписку пользователям, которые ездят регулярно (например, на основе анализа их маршрутов).\n",
    " • Маркетинговая акция с бесплатным месяцем подписки требует рассылки 1161 промокода.\n",
    " • Push-уведомления открывают примерно 40% пользователей.\n",
    "\n",
    "В целом, подписочная модель выгодна для компании, но требует дополнительных маркетинговых усилий для повышения вовлеченности пользователей."
   ]
  }
 ],
 "metadata": {
  "ExecuteTimeLog": [
   {
    "duration": 1014,
    "start_time": "2025-03-20T14:38:33.116Z"
   },
   {
    "duration": 55,
    "start_time": "2025-03-20T14:38:34.132Z"
   },
   {
    "duration": 11,
    "start_time": "2025-03-20T14:38:34.189Z"
   },
   {
    "duration": 28,
    "start_time": "2025-03-20T14:38:34.202Z"
   },
   {
    "duration": 15,
    "start_time": "2025-03-20T14:38:34.231Z"
   },
   {
    "duration": 25,
    "start_time": "2025-03-20T14:38:34.248Z"
   },
   {
    "duration": 20,
    "start_time": "2025-03-20T14:38:34.274Z"
   },
   {
    "duration": 10,
    "start_time": "2025-03-20T14:38:34.295Z"
   },
   {
    "duration": 102,
    "start_time": "2025-03-20T14:38:34.306Z"
   },
   {
    "duration": 10,
    "start_time": "2025-03-20T14:38:34.411Z"
   },
   {
    "duration": 16,
    "start_time": "2025-03-20T14:38:34.422Z"
   },
   {
    "duration": 99,
    "start_time": "2025-03-20T14:38:34.439Z"
   },
   {
    "duration": 46,
    "start_time": "2025-03-20T14:38:34.540Z"
   },
   {
    "duration": 22,
    "start_time": "2025-03-20T14:38:34.588Z"
   },
   {
    "duration": 15,
    "start_time": "2025-03-20T14:38:34.611Z"
   },
   {
    "duration": 198,
    "start_time": "2025-03-20T14:38:34.627Z"
   },
   {
    "duration": 92,
    "start_time": "2025-03-20T14:38:34.826Z"
   },
   {
    "duration": 198,
    "start_time": "2025-03-20T14:38:34.919Z"
   },
   {
    "duration": 471,
    "start_time": "2025-03-20T14:38:35.118Z"
   },
   {
    "duration": 445,
    "start_time": "2025-03-20T14:38:35.591Z"
   },
   {
    "duration": 450,
    "start_time": "2025-03-20T14:38:36.037Z"
   },
   {
    "duration": 22,
    "start_time": "2025-03-20T14:38:36.489Z"
   },
   {
    "duration": 62,
    "start_time": "2025-03-20T14:38:36.513Z"
   },
   {
    "duration": 637,
    "start_time": "2025-03-20T14:38:36.576Z"
   },
   {
    "duration": 584,
    "start_time": "2025-03-20T14:38:37.215Z"
   },
   {
    "duration": 22,
    "start_time": "2025-03-20T14:38:37.801Z"
   },
   {
    "duration": 142,
    "start_time": "2025-03-20T14:38:37.825Z"
   },
   {
    "duration": 7,
    "start_time": "2025-03-20T14:38:37.969Z"
   },
   {
    "duration": 7,
    "start_time": "2025-03-20T14:38:37.978Z"
   },
   {
    "duration": 9,
    "start_time": "2025-03-20T14:38:37.986Z"
   },
   {
    "duration": 411,
    "start_time": "2025-03-20T14:38:37.997Z"
   },
   {
    "duration": 323,
    "start_time": "2025-03-20T14:38:38.410Z"
   },
   {
    "duration": 1081,
    "start_time": "2025-03-20T14:42:06.051Z"
   },
   {
    "duration": 58,
    "start_time": "2025-03-20T14:42:07.134Z"
   },
   {
    "duration": 11,
    "start_time": "2025-03-20T14:42:07.193Z"
   },
   {
    "duration": 10,
    "start_time": "2025-03-20T14:42:07.205Z"
   },
   {
    "duration": 16,
    "start_time": "2025-03-20T14:42:07.216Z"
   },
   {
    "duration": 13,
    "start_time": "2025-03-20T14:42:07.233Z"
   },
   {
    "duration": 8,
    "start_time": "2025-03-20T14:42:07.247Z"
   },
   {
    "duration": 19,
    "start_time": "2025-03-20T14:42:07.256Z"
   },
   {
    "duration": 66,
    "start_time": "2025-03-20T14:42:07.276Z"
   },
   {
    "duration": 9,
    "start_time": "2025-03-20T14:42:07.344Z"
   },
   {
    "duration": 14,
    "start_time": "2025-03-20T14:42:07.354Z"
   },
   {
    "duration": 9,
    "start_time": "2025-03-20T14:42:07.369Z"
   },
   {
    "duration": 17,
    "start_time": "2025-03-20T14:42:07.379Z"
   },
   {
    "duration": 6,
    "start_time": "2025-03-20T14:42:07.397Z"
   },
   {
    "duration": 10,
    "start_time": "2025-03-20T14:42:07.404Z"
   },
   {
    "duration": 193,
    "start_time": "2025-03-20T14:42:07.415Z"
   },
   {
    "duration": 85,
    "start_time": "2025-03-20T14:42:07.610Z"
   },
   {
    "duration": 197,
    "start_time": "2025-03-20T14:42:07.696Z"
   },
   {
    "duration": 501,
    "start_time": "2025-03-20T14:42:07.895Z"
   },
   {
    "duration": 460,
    "start_time": "2025-03-20T14:42:08.398Z"
   },
   {
    "duration": 423,
    "start_time": "2025-03-20T14:42:08.860Z"
   },
   {
    "duration": 22,
    "start_time": "2025-03-20T14:42:09.284Z"
   },
   {
    "duration": 58,
    "start_time": "2025-03-20T14:42:09.307Z"
   },
   {
    "duration": 615,
    "start_time": "2025-03-20T14:42:09.367Z"
   },
   {
    "duration": 491,
    "start_time": "2025-03-20T14:42:09.984Z"
   },
   {
    "duration": 21,
    "start_time": "2025-03-20T14:42:10.477Z"
   },
   {
    "duration": 107,
    "start_time": "2025-03-20T14:42:10.499Z"
   },
   {
    "duration": 6,
    "start_time": "2025-03-20T14:42:10.608Z"
   },
   {
    "duration": 22,
    "start_time": "2025-03-20T14:42:10.615Z"
   },
   {
    "duration": 7,
    "start_time": "2025-03-20T14:42:10.639Z"
   },
   {
    "duration": 388,
    "start_time": "2025-03-20T14:42:10.647Z"
   },
   {
    "duration": 357,
    "start_time": "2025-03-20T14:42:11.037Z"
   },
   {
    "duration": 5,
    "start_time": "2025-03-20T14:44:43.571Z"
   },
   {
    "duration": 1244,
    "start_time": "2025-03-21T12:24:37.974Z"
   },
   {
    "duration": 68,
    "start_time": "2025-03-21T12:24:39.220Z"
   },
   {
    "duration": 13,
    "start_time": "2025-03-21T12:24:39.289Z"
   },
   {
    "duration": 11,
    "start_time": "2025-03-21T12:24:39.304Z"
   },
   {
    "duration": 11,
    "start_time": "2025-03-21T12:24:39.316Z"
   },
   {
    "duration": 36,
    "start_time": "2025-03-21T12:24:39.328Z"
   },
   {
    "duration": 20,
    "start_time": "2025-03-21T12:24:39.367Z"
   },
   {
    "duration": 15,
    "start_time": "2025-03-21T12:24:39.388Z"
   },
   {
    "duration": 20,
    "start_time": "2025-03-21T12:24:39.405Z"
   },
   {
    "duration": 16,
    "start_time": "2025-03-21T12:24:39.428Z"
   },
   {
    "duration": 24,
    "start_time": "2025-03-21T12:24:39.461Z"
   },
   {
    "duration": 6,
    "start_time": "2025-03-21T12:24:39.487Z"
   },
   {
    "duration": 17,
    "start_time": "2025-03-21T12:24:39.494Z"
   },
   {
    "duration": 6,
    "start_time": "2025-03-21T12:24:39.513Z"
   },
   {
    "duration": 9,
    "start_time": "2025-03-21T12:24:39.521Z"
   },
   {
    "duration": 268,
    "start_time": "2025-03-21T12:24:39.531Z"
   },
   {
    "duration": 114,
    "start_time": "2025-03-21T12:24:39.802Z"
   },
   {
    "duration": 255,
    "start_time": "2025-03-21T12:24:39.918Z"
   },
   {
    "duration": 19,
    "start_time": "2025-03-21T12:24:40.175Z"
   },
   {
    "duration": 588,
    "start_time": "2025-03-21T12:24:40.195Z"
   },
   {
    "duration": 553,
    "start_time": "2025-03-21T12:24:40.792Z"
   },
   {
    "duration": 42,
    "start_time": "2025-03-21T12:24:41.347Z"
   },
   {
    "duration": 16,
    "start_time": "2025-03-21T12:24:41.391Z"
   },
   {
    "duration": 92,
    "start_time": "2025-03-21T12:24:41.408Z"
   },
   {
    "duration": 814,
    "start_time": "2025-03-21T12:24:41.501Z"
   },
   {
    "duration": 704,
    "start_time": "2025-03-21T12:24:42.316Z"
   },
   {
    "duration": 41,
    "start_time": "2025-03-21T12:24:43.022Z"
   },
   {
    "duration": 101,
    "start_time": "2025-03-21T12:24:43.071Z"
   },
   {
    "duration": 19,
    "start_time": "2025-03-21T12:24:43.174Z"
   },
   {
    "duration": 6,
    "start_time": "2025-03-21T12:24:43.195Z"
   },
   {
    "duration": 11,
    "start_time": "2025-03-21T12:24:43.202Z"
   },
   {
    "duration": 508,
    "start_time": "2025-03-21T12:24:43.214Z"
   },
   {
    "duration": 393,
    "start_time": "2025-03-21T12:24:43.724Z"
   }
  ],
  "kernelspec": {
   "display_name": "Python 3 (ipykernel)",
   "language": "python",
   "name": "python3"
  },
  "language_info": {
   "codemirror_mode": {
    "name": "ipython",
    "version": 3
   },
   "file_extension": ".py",
   "mimetype": "text/x-python",
   "name": "python",
   "nbconvert_exporter": "python",
   "pygments_lexer": "ipython3",
   "version": "3.9.5"
  },
  "toc": {
   "base_numbering": 1,
   "nav_menu": {},
   "number_sections": true,
   "sideBar": true,
   "skip_h1_title": true,
   "title_cell": "Table of Contents",
   "title_sidebar": "Contents",
   "toc_cell": false,
   "toc_position": {},
   "toc_section_display": true,
   "toc_window_display": false
  }
 },
 "nbformat": 4,
 "nbformat_minor": 5
}
